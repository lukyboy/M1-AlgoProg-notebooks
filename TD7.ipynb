{
 "cells": [
  {
   "cell_type": "markdown",
   "metadata": {},
   "source": [
    "## Algorithme naïf"
   ]
  },
  {
   "cell_type": "code",
   "execution_count": 1,
   "metadata": {},
   "outputs": [],
   "source": [
    "def match(string, pattern):\n",
    "    matches = []\n",
    "    for i in range(len(string)):\n",
    "        for j in range(len(pattern)):\n",
    "            if string[i+j] != pattern[j]:\n",
    "                break\n",
    "        else:  # for ... else: Cette branche ne s'exécute que\n",
    "               #               si on n'est pas sortis du for\n",
    "               #               par un break\n",
    "            matches.append(i)\n",
    "    return matches"
   ]
  },
  {
   "cell_type": "markdown",
   "metadata": {},
   "source": [
    "On télécharge dans la variable `genome` le génome de l'E. coli"
   ]
  },
  {
   "cell_type": "code",
   "execution_count": 2,
   "metadata": {},
   "outputs": [],
   "source": [
    "from requests import get\n",
    "from gzip import decompress\n",
    "\n",
    "req = get('http://defeo.lu/M1-AlgoProg/tds/ecoli.gz')\n",
    "genome = decompress(req.content).decode()[71:]"
   ]
  },
  {
   "cell_type": "code",
   "execution_count": 3,
   "metadata": {},
   "outputs": [
    {
     "name": "stdout",
     "output_type": "stream",
     "text": [
      "CPU times: user 2.44 s, sys: 0 ns, total: 2.44 s\n",
      "Wall time: 2.44 s\n"
     ]
    }
   ],
   "source": [
    "%time m = match(genome, 'GATTACA')"
   ]
  },
  {
   "cell_type": "code",
   "execution_count": 4,
   "metadata": {},
   "outputs": [
    {
     "data": {
      "text/plain": [
       "[23254,\n",
       " 80864,\n",
       " 155458,\n",
       " 181444,\n",
       " 262735,\n",
       " 313586,\n",
       " 316375,\n",
       " 322262,\n",
       " 357439,\n",
       " 386155,\n",
       " 392966,\n",
       " 393371,\n",
       " 479364,\n",
       " 481239,\n",
       " 498552,\n",
       " 511721,\n",
       " 516538,\n",
       " 541301,\n",
       " 541503,\n",
       " 564697,\n",
       " 567926,\n",
       " 569904,\n",
       " 602022,\n",
       " 605460,\n",
       " 634557,\n",
       " 638760,\n",
       " 703856,\n",
       " 713982,\n",
       " 732147,\n",
       " 736486,\n",
       " 736866,\n",
       " 738133,\n",
       " 740543,\n",
       " 757751,\n",
       " 780029,\n",
       " 783601,\n",
       " 805575,\n",
       " 816856,\n",
       " 831159,\n",
       " 841739,\n",
       " 860171,\n",
       " 877581,\n",
       " 894395,\n",
       " 919777,\n",
       " 923017,\n",
       " 933119,\n",
       " 953797,\n",
       " 959900,\n",
       " 998178,\n",
       " 1001183,\n",
       " 1098941,\n",
       " 1099825,\n",
       " 1103333,\n",
       " 1123212,\n",
       " 1134014,\n",
       " 1134921,\n",
       " 1139457,\n",
       " 1151824,\n",
       " 1200846,\n",
       " 1206930,\n",
       " 1210459,\n",
       " 1211165,\n",
       " 1223289,\n",
       " 1235369,\n",
       " 1292565,\n",
       " 1301128,\n",
       " 1322228,\n",
       " 1325600,\n",
       " 1336802,\n",
       " 1340902,\n",
       " 1374809,\n",
       " 1378000,\n",
       " 1394678,\n",
       " 1397355,\n",
       " 1405313,\n",
       " 1408309,\n",
       " 1414001,\n",
       " 1471399,\n",
       " 1480451,\n",
       " 1488567,\n",
       " 1503663,\n",
       " 1512769,\n",
       " 1516963,\n",
       " 1531037,\n",
       " 1531857,\n",
       " 1532267,\n",
       " 1550532,\n",
       " 1580750,\n",
       " 1633194,\n",
       " 1642824,\n",
       " 1649022,\n",
       " 1680615,\n",
       " 1787843,\n",
       " 1790424,\n",
       " 1854854,\n",
       " 1862884,\n",
       " 1915544,\n",
       " 1932774,\n",
       " 1936043,\n",
       " 1983959,\n",
       " 1987662,\n",
       " 2016680,\n",
       " 2033633,\n",
       " 2035141,\n",
       " 2051285,\n",
       " 2051309,\n",
       " 2057723,\n",
       " 2075435,\n",
       " 2086585,\n",
       " 2162995,\n",
       " 2163023,\n",
       " 2171320,\n",
       " 2181108,\n",
       " 2223675,\n",
       " 2348819,\n",
       " 2353465,\n",
       " 2390045,\n",
       " 2419281,\n",
       " 2425829,\n",
       " 2456349,\n",
       " 2471027,\n",
       " 2480156,\n",
       " 2484442,\n",
       " 2496379,\n",
       " 2554389,\n",
       " 2562706,\n",
       " 2563654,\n",
       " 2572154,\n",
       " 2622582,\n",
       " 2623499,\n",
       " 2635135,\n",
       " 2696391,\n",
       " 2751649,\n",
       " 2757990,\n",
       " 2761101,\n",
       " 2773497,\n",
       " 2777927,\n",
       " 2785937,\n",
       " 2807326,\n",
       " 2832691,\n",
       " 2857030,\n",
       " 2862128,\n",
       " 2916278,\n",
       " 2916516,\n",
       " 2924732,\n",
       " 2924835,\n",
       " 2925587,\n",
       " 2926309,\n",
       " 2931246,\n",
       " 2939937,\n",
       " 2949964,\n",
       " 2968925,\n",
       " 2976057,\n",
       " 2979189,\n",
       " 2989053,\n",
       " 2991935,\n",
       " 2992940,\n",
       " 3002372,\n",
       " 3010387,\n",
       " 3020282,\n",
       " 3054417,\n",
       " 3088011,\n",
       " 3088193,\n",
       " 3178318,\n",
       " 3269329,\n",
       " 3284160,\n",
       " 3309440,\n",
       " 3331463,\n",
       " 3334351,\n",
       " 3422081,\n",
       " 3437276,\n",
       " 3449295,\n",
       " 3460257,\n",
       " 3471879,\n",
       " 3501046,\n",
       " 3537156,\n",
       " 3563008,\n",
       " 3612417,\n",
       " 3621756,\n",
       " 3624419,\n",
       " 3624829,\n",
       " 3646313,\n",
       " 3647300,\n",
       " 3657893,\n",
       " 3658048,\n",
       " 3699437,\n",
       " 3738582,\n",
       " 3756673,\n",
       " 3764747,\n",
       " 3779338,\n",
       " 3780480,\n",
       " 3781708,\n",
       " 3793928,\n",
       " 3811497,\n",
       " 3824838,\n",
       " 3832216,\n",
       " 3835518,\n",
       " 3868393,\n",
       " 3936691,\n",
       " 3939175,\n",
       " 3952501,\n",
       " 3986087,\n",
       " 3986361,\n",
       " 4059042,\n",
       " 4164517,\n",
       " 4214888,\n",
       " 4216308,\n",
       " 4222553,\n",
       " 4226992,\n",
       " 4227070,\n",
       " 4240776,\n",
       " 4241414,\n",
       " 4271046,\n",
       " 4288021,\n",
       " 4293803,\n",
       " 4329045,\n",
       " 4362065,\n",
       " 4418558,\n",
       " 4430984,\n",
       " 4437438,\n",
       " 4445266,\n",
       " 4449824,\n",
       " 4480979,\n",
       " 4534174,\n",
       " 4550726,\n",
       " 4552079,\n",
       " 4568705,\n",
       " 4608729,\n",
       " 4616894,\n",
       " 4619359]"
      ]
     },
     "execution_count": 4,
     "metadata": {},
     "output_type": "execute_result"
    }
   ],
   "source": [
    "m"
   ]
  },
  {
   "cell_type": "markdown",
   "metadata": {},
   "source": [
    "## Rabin – Karp"
   ]
  },
  {
   "cell_type": "code",
   "execution_count": 5,
   "metadata": {},
   "outputs": [],
   "source": [
    "def rabin_karp(string, pattern, mod):\n",
    "    # Dictionnaire pour traduction: Alphabet -> Entiers\n",
    "    #\n",
    "    # utiliser un dictionnaire semble être ce qu'il y a de plus efficace en Python\n",
    "    pi = { 'A': 0, 'G': 1, 'C': 2, 'T': 3 }\n",
    "\n",
    "    # Eh, oui, on peut définir des fonctions dans des fonctions en Python!\n",
    "    # Cette fonction ne peut être appellée que à l'intérieur de rabin_karp\n",
    "    def string_to_int(s):\n",
    "        res = 0\n",
    "        for c in s:\n",
    "            res *= 4\n",
    "            # Les variables locales de la fonction \"parent\" (ici `pi` et `mod`)\n",
    "            # sont accessibles depuis cette fonction imbriquée\n",
    "            res = (res + pi[c]) % mod\n",
    "        return res\n",
    "\n",
    "    # Initialisation et test du préfixe\n",
    "    matches = []\n",
    "    m = len(pattern)\n",
    "    g = string_to_int(pattern)\n",
    "    h = string_to_int(string[:m])\n",
    "    if g == h and pattern == string[:m]:\n",
    "        matches.append(0)\n",
    "    \n",
    "    # pow(a,b,c) calcule efficacement a^b mod c\n",
    "    #\n",
    "    # il semble nécessaire pour la performance de mettre ce précalcul hors de la\n",
    "    # boucle\n",
    "    t = pow(4, m-1, mod)\n",
    "    for i in range(len(string) - m):\n",
    "        # Cela semble être légèrement plus rapide de faire la mise à jour de h\n",
    "        # en une seule ligne, plutôt qu'avec une suite d'instructions.\n",
    "        #\n",
    "        # Aussi, on évite de faire appel à `string_to_int`: les appels aux\n",
    "        # fonctions coûtent cher!\n",
    "        h = ( 4*(h - pi[string[i]] * t) + pi[string[i+m]] ) % mod\n",
    "        if g == h and pattern == string[i+1:i+m+1]:\n",
    "            matches.append(i+1)\n",
    "    return matches"
   ]
  },
  {
   "cell_type": "markdown",
   "metadata": {},
   "source": [
    "Pas si mal, la perf!"
   ]
  },
  {
   "cell_type": "code",
   "execution_count": 6,
   "metadata": {},
   "outputs": [
    {
     "name": "stdout",
     "output_type": "stream",
     "text": [
      "CPU times: user 1.62 s, sys: 3.92 ms, total: 1.62 s\n",
      "Wall time: 1.62 s\n"
     ]
    }
   ],
   "source": [
    "%time m2 = rabin_karp(genome, 'GATTACA', 2**32 - 1)"
   ]
  },
  {
   "cell_type": "markdown",
   "metadata": {},
   "source": [
    "On vérifie que cela calcule la même sortie que l'algorithme naïf"
   ]
  },
  {
   "cell_type": "code",
   "execution_count": 7,
   "metadata": {},
   "outputs": [
    {
     "data": {
      "text/plain": [
       "True"
      ]
     },
     "execution_count": 7,
     "metadata": {},
     "output_type": "execute_result"
    }
   ],
   "source": [
    "m == m2"
   ]
  },
  {
   "cell_type": "markdown",
   "metadata": {},
   "source": [
    "On va faire des tests avec d'autres motifs et paramètres, pour essayer de déterminer les meilleurs paramètres "
   ]
  },
  {
   "cell_type": "code",
   "execution_count": 8,
   "metadata": {},
   "outputs": [
    {
     "name": "stdout",
     "output_type": "stream",
     "text": [
      "CPU times: user 1.74 s, sys: 0 ns, total: 1.74 s\n",
      "Wall time: 1.74 s\n"
     ]
    }
   ],
   "source": [
    "%time m2 = rabin_karp(genome, 'GATTACA', 2**16 - 1)"
   ]
  },
  {
   "cell_type": "code",
   "execution_count": 9,
   "metadata": {},
   "outputs": [
    {
     "data": {
      "text/plain": [
       "'GTGAATATATCGAACAGTCAGGTTAACAGGCTGCGGCATTTTGTCCGCGCCGGGCTTCGCTCACTGTTCAGGCCGGAGCCACAGACCGCCGTTGAATGGGCGGATGCTAATTACTATCTCCCGAAAGAATCCGCATACCAGGAAGGGCGCTGGGAAACACTGCCCTTTCAGCGGGCCATCATGAATGCGATGGGCAGCGACTACATCCGTGAGGTGAATGTGGTGAAGTCTGCCCGTGTCGGTTATTCCAAAATGCTGCTGGGTGTTTATGCCTACTTTATAGAGCATAAGCAGCGCAACACCCTTATT'"
      ]
     },
     "execution_count": 9,
     "metadata": {},
     "output_type": "execute_result"
    }
   ],
   "source": [
    "aaaD = 'GTGAATATATCGAACAGTCAGGTTAACAGGCTGCGGCATTTTGTCCGCGCCGGGCTTCGCTCACTGTTCAGGCCGGAGCCACAGACCGCCGTTGAATGGGCGGATGCTAATTACTATCTCCCGAAAGAATCCGCATACCAGGAAGGGCGCTGGGAAACACTGCCCTTTCAGCGGGCCATCATGAATGCGATGGGCAGCGACTACATCCGTGAGGTGAATGTGGTGAAGTCTGCCCGTGTCGGTTATTCCAAAATGCTGCTGGGTGTTTATGCCTACTTTATAGAGCATAAGCAGCGCAACACCCTTATT'\n",
    "aaaD"
   ]
  },
  {
   "cell_type": "code",
   "execution_count": 10,
   "metadata": {},
   "outputs": [
    {
     "name": "stdout",
     "output_type": "stream",
     "text": [
      "CPU times: user 2.62 s, sys: 0 ns, total: 2.62 s\n",
      "Wall time: 2.62 s\n"
     ]
    }
   ],
   "source": [
    "%time _ = match(genome, aaaD)"
   ]
  },
  {
   "cell_type": "code",
   "execution_count": 11,
   "metadata": {},
   "outputs": [
    {
     "name": "stdout",
     "output_type": "stream",
     "text": [
      "CPU times: user 2.36 s, sys: 0 ns, total: 2.36 s\n",
      "Wall time: 2.36 s\n"
     ]
    }
   ],
   "source": [
    "%time _ = rabin_karp(genome, aaaD, 2**64 - 1)"
   ]
  },
  {
   "cell_type": "code",
   "execution_count": 12,
   "metadata": {},
   "outputs": [
    {
     "name": "stdout",
     "output_type": "stream",
     "text": [
      "CPU times: user 2.28 s, sys: 0 ns, total: 2.28 s\n",
      "Wall time: 2.28 s\n"
     ]
    }
   ],
   "source": [
    "%time _ = rabin_karp(genome, aaaD, 2**32 - 1)"
   ]
  },
  {
   "cell_type": "code",
   "execution_count": 13,
   "metadata": {},
   "outputs": [
    {
     "name": "stdout",
     "output_type": "stream",
     "text": [
      "CPU times: user 1.69 s, sys: 0 ns, total: 1.69 s\n",
      "Wall time: 1.69 s\n"
     ]
    }
   ],
   "source": [
    "%time _ = rabin_karp(genome, aaaD, 2**16 - 1)"
   ]
  },
  {
   "cell_type": "code",
   "execution_count": 14,
   "metadata": {},
   "outputs": [
    {
     "name": "stdout",
     "output_type": "stream",
     "text": [
      "CPU times: user 1.61 s, sys: 3.97 ms, total: 1.61 s\n",
      "Wall time: 1.61 s\n"
     ]
    }
   ],
   "source": [
    "%time _ = rabin_karp(genome, aaaD, 2**8 - 1)"
   ]
  },
  {
   "cell_type": "code",
   "execution_count": 15,
   "metadata": {},
   "outputs": [
    {
     "data": {
      "text/plain": [
       "'ATGCTGGATAAAATTGTTATTGCCAACCGCGGCGAGATTGCATTGCGTATTCTTCGTGCCTGTAAAGAACTGGGCATCAAGACTGTCGCTGTGCACTCCAGCGCGGATCGCGATCTAAAACACGTATTACTGGCAGATGAAACGGTCTGTATTGGCCCTGCTCCGTCAGTAAAAAGTTATCTGAACATCCCGGCAATCATCAGCGCCGCTGAAATCACCGGCGCAGTAGCAATCCATCCGGGTTACGGCTTCCTCTCCGAGAACGCCAACTTTGCCGAGCAGGTTGAACGCTCCGGCTTTATCTTCATTGGCCCGAAAGCAGAAACCATTCGCCTGATGGGCGACAAAGTATCCGCAATCGCGGCGATGAAAAAAGCGGGCGTCCCTTGCGTACCGGGTTCTGACGGCCCGCTGGGCGACGATATGGATAAAAACCGTGCCATTGCTAAACGCATTGGTTATCCGGTGATTATCAAAGCCTCCGGCGGCGGCGGCGGTCGCGGTATGCGCGTAGTGCGCGGCGACGCTGAACTGGCACAATCCATCTCCATGACCCGTGCGGAAGCGAAAGCTGCTTTCAGCAACGATATGGTTTACATGGAGAAATACCTGGAAAATCCTCGCCACGTCGAGATTCAGGTACTGGCTGACGGTCAGGGCAACGCTATCTATCTGGCGGAACGTGACTGCTCCATGCAACGCCGCCACCAGAAAGTGGTCGAAGAAGCGCCAGCACCGGGCATTACCCCGGAACTGCGTCGCTACATCGGCGAACGTTGCGCTAAAGCGTGTGTTGATATCGGCTATCGCGGTGCAGGTACTTTCGAGTTCCTGTTCGAAAACGGCGAGTTCTATTTCATCGAAATGAACACCCGTATTCAGGTAGAACACCCGGTTACAGAAATGATCACCGGCGTTGACCTGATCAAAGAACAGCTGCGTATCGCTGCCGGTCAACCGCTGTCGATCAAGCAAGAAGAAGTTCACGTTCGCGGCCATGCGGTGGAATGTCGTATCAACGCCGAAGATCCGAACACCTTCCTGCCAAGTCCGGGCAAAATCACCCGTTTCCACGCACCTGGCGGTTTTGGCGTACGTTGGGAGTCTCATATCTACGCGGGCTACACCGTACCGCCGTACTATGACTCAATGATCGGTAAGCTGATTTGCTACGGTGAAAACCGTGACGTGGCGATTGCCCGCATGAAGAATGCGCTGCAGGAGCTGATCATCGACGGTATCAAAACCAACGTTGATCTGCAGATCCGCATCATGAATGACGAGAACTTCCAGCATGGTGGCACTAACATCCACTATCTGGAGAAAAAACTCGGTCTTCAGGAAAAATAA'"
      ]
     },
     "execution_count": 15,
     "metadata": {},
     "output_type": "execute_result"
    }
   ],
   "source": [
    "accC = 'ATGCTGGATAAAATTGTTATTGCCAACCGCGGCGAGATTGCATTGCGTATTCTTCGTGCCTGTAAAGAACTGGGCATCAAGACTGTCGCTGTGCACTCCAGCGCGGATCGCGATCTAAAACACGTATTACTGGCAGATGAAACGGTCTGTATTGGCCCTGCTCCGTCAGTAAAAAGTTATCTGAACATCCCGGCAATCATCAGCGCCGCTGAAATCACCGGCGCAGTAGCAATCCATCCGGGTTACGGCTTCCTCTCCGAGAACGCCAACTTTGCCGAGCAGGTTGAACGCTCCGGCTTTATCTTCATTGGCCCGAAAGCAGAAACCATTCGCCTGATGGGCGACAAAGTATCCGCAATCGCGGCGATGAAAAAAGCGGGCGTCCCTTGCGTACCGGGTTCTGACGGCCCGCTGGGCGACGATATGGATAAAAACCGTGCCATTGCTAAACGCATTGGTTATCCGGTGATTATCAAAGCCTCCGGCGGCGGCGGCGGTCGCGGTATGCGCGTAGTGCGCGGCGACGCTGAACTGGCACAATCCATCTCCATGACCCGTGCGGAAGCGAAAGCTGCTTTCAGCAACGATATGGTTTACATGGAGAAATACCTGGAAAATCCTCGCCACGTCGAGATTCAGGTACTGGCTGACGGTCAGGGCAACGCTATCTATCTGGCGGAACGTGACTGCTCCATGCAACGCCGCCACCAGAAAGTGGTCGAAGAAGCGCCAGCACCGGGCATTACCCCGGAACTGCGTCGCTACATCGGCGAACGTTGCGCTAAAGCGTGTGTTGATATCGGCTATCGCGGTGCAGGTACTTTCGAGTTCCTGTTCGAAAACGGCGAGTTCTATTTCATCGAAATGAACACCCGTATTCAGGTAGAACACCCGGTTACAGAAATGATCACCGGCGTTGACCTGATCAAAGAACAGCTGCGTATCGCTGCCGGTCAACCGCTGTCGATCAAGCAAGAAGAAGTTCACGTTCGCGGCCATGCGGTGGAATGTCGTATCAACGCCGAAGATCCGAACACCTTCCTGCCAAGTCCGGGCAAAATCACCCGTTTCCACGCACCTGGCGGTTTTGGCGTACGTTGGGAGTCTCATATCTACGCGGGCTACACCGTACCGCCGTACTATGACTCAATGATCGGTAAGCTGATTTGCTACGGTGAAAACCGTGACGTGGCGATTGCCCGCATGAAGAATGCGCTGCAGGAGCTGATCATCGACGGTATCAAAACCAACGTTGATCTGCAGATCCGCATCATGAATGACGAGAACTTCCAGCATGGTGGCACTAACATCCACTATCTGGAGAAAAAACTCGGTCTTCAGGAAAAATAA'\n",
    "accC"
   ]
  },
  {
   "cell_type": "code",
   "execution_count": 16,
   "metadata": {},
   "outputs": [
    {
     "name": "stdout",
     "output_type": "stream",
     "text": [
      "CPU times: user 2.76 s, sys: 0 ns, total: 2.76 s\n",
      "Wall time: 2.76 s\n"
     ]
    }
   ],
   "source": [
    "%time _ = match(genome, accC)"
   ]
  },
  {
   "cell_type": "code",
   "execution_count": 17,
   "metadata": {},
   "outputs": [
    {
     "name": "stdout",
     "output_type": "stream",
     "text": [
      "CPU times: user 2.25 s, sys: 0 ns, total: 2.25 s\n",
      "Wall time: 2.25 s\n"
     ]
    }
   ],
   "source": [
    "%time _ = rabin_karp(genome, accC, 2**64 - 1)"
   ]
  },
  {
   "cell_type": "code",
   "execution_count": 18,
   "metadata": {},
   "outputs": [
    {
     "name": "stdout",
     "output_type": "stream",
     "text": [
      "CPU times: user 2.32 s, sys: 0 ns, total: 2.32 s\n",
      "Wall time: 2.32 s\n"
     ]
    }
   ],
   "source": [
    "%time _ = rabin_karp(genome, accC, 2**32 - 1)"
   ]
  },
  {
   "cell_type": "code",
   "execution_count": 19,
   "metadata": {},
   "outputs": [
    {
     "name": "stdout",
     "output_type": "stream",
     "text": [
      "CPU times: user 1.88 s, sys: 0 ns, total: 1.88 s\n",
      "Wall time: 1.88 s\n"
     ]
    }
   ],
   "source": [
    "%time _ = rabin_karp(genome, accC, 2**16 - 1)"
   ]
  },
  {
   "cell_type": "code",
   "execution_count": 20,
   "metadata": {},
   "outputs": [
    {
     "name": "stdout",
     "output_type": "stream",
     "text": [
      "CPU times: user 1.7 s, sys: 3.96 ms, total: 1.71 s\n",
      "Wall time: 1.71 s\n"
     ]
    }
   ],
   "source": [
    "%time _ = rabin_karp(genome, accC, 2**8 - 1)"
   ]
  }
 ],
 "metadata": {
  "kernelspec": {
   "display_name": "Python 3",
   "language": "python",
   "name": "python3"
  },
  "language_info": {
   "codemirror_mode": {
    "name": "ipython",
    "version": 3
   },
   "file_extension": ".py",
   "mimetype": "text/x-python",
   "name": "python",
   "nbconvert_exporter": "python",
   "pygments_lexer": "ipython3",
   "version": "3.6.3"
  }
 },
 "nbformat": 4,
 "nbformat_minor": 2
}
