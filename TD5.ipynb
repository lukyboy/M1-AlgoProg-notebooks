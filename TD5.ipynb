{
 "cells": [
  {
   "cell_type": "markdown",
   "metadata": {},
   "source": [
    "## Sur l'utilisation des dictionnaires en Python\n",
    "\n",
    "Tout object \"immuable\" peut être utilisé comme clef d'un dictionnaire Python"
   ]
  },
  {
   "cell_type": "code",
   "execution_count": 1,
   "metadata": {},
   "outputs": [
    {
     "data": {
      "text/plain": [
       "{1: 10, 'bla': 0}"
      ]
     },
     "execution_count": 1,
     "metadata": {},
     "output_type": "execute_result"
    }
   ],
   "source": [
    "memo = {}\n",
    "memo[1] = 10\n",
    "memo['bla'] = 0\n",
    "memo"
   ]
  },
  {
   "cell_type": "markdown",
   "metadata": {},
   "source": [
    "Cependant les lists ne sont pas des objets immuables !"
   ]
  },
  {
   "cell_type": "code",
   "execution_count": 2,
   "metadata": {},
   "outputs": [
    {
     "ename": "TypeError",
     "evalue": "unhashable type: 'list'",
     "output_type": "error",
     "traceback": [
      "\u001b[0;31m---------------------------------------------------------------------------\u001b[0m",
      "\u001b[0;31mTypeError\u001b[0m                                 Traceback (most recent call last)",
      "\u001b[0;32m<ipython-input-2-0024cad64c3a>\u001b[0m in \u001b[0;36m<module>\u001b[0;34m()\u001b[0m\n\u001b[1;32m      1\u001b[0m \u001b[0ml\u001b[0m \u001b[0;34m=\u001b[0m \u001b[0;34m[\u001b[0m\u001b[0;36m1\u001b[0m\u001b[0;34m,\u001b[0m\u001b[0;36m2\u001b[0m\u001b[0;34m,\u001b[0m\u001b[0;36m3\u001b[0m\u001b[0;34m,\u001b[0m\u001b[0;36m4\u001b[0m\u001b[0;34m,\u001b[0m\u001b[0;36m5\u001b[0m\u001b[0;34m]\u001b[0m\u001b[0;34m\u001b[0m\u001b[0m\n\u001b[0;32m----> 2\u001b[0;31m \u001b[0mmemo\u001b[0m\u001b[0;34m[\u001b[0m\u001b[0ml\u001b[0m\u001b[0;34m]\u001b[0m \u001b[0;34m=\u001b[0m \u001b[0;34m-\u001b[0m\u001b[0;36m1\u001b[0m\u001b[0;34m\u001b[0m\u001b[0m\n\u001b[0m",
      "\u001b[0;31mTypeError\u001b[0m: unhashable type: 'list'"
     ]
    }
   ],
   "source": [
    "l = [1,2,3,4,5]\n",
    "memo[l] = -1"
   ]
  },
  {
   "cell_type": "markdown",
   "metadata": {},
   "source": [
    "En effet, Python associée un hashé à tous les objets immuables, mais pas aux objets dits *\"unashable\"*"
   ]
  },
  {
   "cell_type": "code",
   "execution_count": 3,
   "metadata": {},
   "outputs": [
    {
     "data": {
      "text/plain": [
       "4314334462842797946"
      ]
     },
     "execution_count": 3,
     "metadata": {},
     "output_type": "execute_result"
    }
   ],
   "source": [
    "hash('bla')"
   ]
  },
  {
   "cell_type": "code",
   "execution_count": 4,
   "metadata": {},
   "outputs": [
    {
     "data": {
      "text/plain": [
       "16777216"
      ]
     },
     "execution_count": 4,
     "metadata": {},
     "output_type": "execute_result"
    }
   ],
   "source": [
    "hash(2**1000)"
   ]
  },
  {
   "cell_type": "code",
   "execution_count": 5,
   "metadata": {},
   "outputs": [
    {
     "ename": "TypeError",
     "evalue": "unhashable type: 'list'",
     "output_type": "error",
     "traceback": [
      "\u001b[0;31m---------------------------------------------------------------------------\u001b[0m",
      "\u001b[0;31mTypeError\u001b[0m                                 Traceback (most recent call last)",
      "\u001b[0;32m<ipython-input-5-7a4e953a7f49>\u001b[0m in \u001b[0;36m<module>\u001b[0;34m()\u001b[0m\n\u001b[0;32m----> 1\u001b[0;31m \u001b[0mhash\u001b[0m\u001b[0;34m(\u001b[0m\u001b[0ml\u001b[0m\u001b[0;34m)\u001b[0m\u001b[0;34m\u001b[0m\u001b[0m\n\u001b[0m",
      "\u001b[0;31mTypeError\u001b[0m: unhashable type: 'list'"
     ]
    }
   ],
   "source": [
    "hash(l)"
   ]
  },
  {
   "cell_type": "markdown",
   "metadata": {},
   "source": [
    "Voici une solution pour utiliser des listes comme clefs dans un dictionnaire Python: les convertir en chaînes de caractères"
   ]
  },
  {
   "cell_type": "code",
   "execution_count": 6,
   "metadata": {},
   "outputs": [
    {
     "data": {
      "text/plain": [
       "'[1, 2, 3, 4, 5]'"
      ]
     },
     "execution_count": 6,
     "metadata": {},
     "output_type": "execute_result"
    }
   ],
   "source": [
    "str(l)"
   ]
  },
  {
   "cell_type": "code",
   "execution_count": 7,
   "metadata": {},
   "outputs": [
    {
     "data": {
      "text/plain": [
       "[1, 2, 3, 4, 5]"
      ]
     },
     "execution_count": 7,
     "metadata": {},
     "output_type": "execute_result"
    }
   ],
   "source": [
    "l"
   ]
  },
  {
   "cell_type": "code",
   "execution_count": 8,
   "metadata": {},
   "outputs": [
    {
     "data": {
      "text/plain": [
       "{1: 10, 'bla': 0, '[1, 2, 3, 4, 5]': 100}"
      ]
     },
     "execution_count": 8,
     "metadata": {},
     "output_type": "execute_result"
    }
   ],
   "source": [
    "memo[str(l)] = 100\n",
    "memo"
   ]
  },
  {
   "cell_type": "markdown",
   "metadata": {},
   "source": [
    "## Exercice 1\n",
    "\n",
    "### solution récursive naïve\n",
    "\n",
    "Avec le meilleur parenthèsage en bonus !"
   ]
  },
  {
   "cell_type": "code",
   "execution_count": 9,
   "metadata": {},
   "outputs": [],
   "source": [
    "def opt(seq):\n",
    "    if len(seq) <= 2:\n",
    "        return 0, '(X·X)'\n",
    "    m = float(\"inf\")  # Valeur spéciale \"infini\" (Python-only)\n",
    "    shape = None\n",
    "    for i in range(1, len(seq)-1):\n",
    "        A, shl = opt(seq[:i+1])\n",
    "        B, shr = opt(seq[i:])\n",
    "        n = A + B + seq[0]*seq[i]*seq[-1]\n",
    "        if n < m:\n",
    "            m = n\n",
    "            shape = '(%s·%s)' % (shl,shr)\n",
    "    return m, shape"
   ]
  },
  {
   "cell_type": "code",
   "execution_count": 10,
   "metadata": {},
   "outputs": [
    {
     "name": "stdout",
     "output_type": "stream",
     "text": [
      "CPU times: user 157 µs, sys: 30 µs, total: 187 µs\n",
      "Wall time: 189 µs\n"
     ]
    },
    {
     "data": {
      "text/plain": [
       "(2010, '(((X·X)·(X·X))·(((X·X)·(X·X))·((X·X)·(X·X))))')"
      ]
     },
     "execution_count": 10,
     "metadata": {},
     "output_type": "execute_result"
    }
   ],
   "source": [
    "%time opt([5,10,3,12,5,50,6])"
   ]
  },
  {
   "cell_type": "markdown",
   "metadata": {},
   "source": [
    "### solution récursive avec mémoisation\n",
    "\n",
    "À partir de maintenant, on donne juste le coût optimal, pour simplicité. La modification pour avoir le parenthèsage est immédiate."
   ]
  },
  {
   "cell_type": "code",
   "execution_count": 11,
   "metadata": {},
   "outputs": [],
   "source": [
    "def opt_memo(seq, memo):  # memo est la table de hachage à utiliser pour la mémoisation,\n",
    "                          # passer un dictionnaire vide lorsqu'on appelle la fonction\n",
    "    cle = str(seq)\n",
    "    if cle in memo:\n",
    "        return memo[cle]\n",
    "    if len(seq) <= 2:\n",
    "        return 0\n",
    "    m = float(\"inf\")  # Valeur spéciale \"infini\" (Python-only)\n",
    "    for i in range(1, len(seq)-1):\n",
    "        n = opt_memo(seq[:i+1], memo) + opt_memo(seq[i:], memo) + seq[0]*seq[i]*seq[-1]\n",
    "        if n < m:\n",
    "            m = n\n",
    "    memo[cle] = m\n",
    "    return m"
   ]
  },
  {
   "cell_type": "code",
   "execution_count": 12,
   "metadata": {},
   "outputs": [
    {
     "name": "stdout",
     "output_type": "stream",
     "text": [
      "CPU times: user 106 µs, sys: 0 ns, total: 106 µs\n",
      "Wall time: 109 µs\n"
     ]
    },
    {
     "data": {
      "text/plain": [
       "2010"
      ]
     },
     "execution_count": 12,
     "metadata": {},
     "output_type": "execute_result"
    }
   ],
   "source": [
    "%time opt_memo([5,10,3,12,5,50,6], {})"
   ]
  },
  {
   "cell_type": "markdown",
   "metadata": {},
   "source": [
    "comparons les performances sur une entrée un peu plus consistante (une partie de la différence est due au fait que `opt` renvoie le parenthésage alors que `opt_memo` ne le fait pas, mais l'impact est négligeable face au gain dû à la mémoisation)."
   ]
  },
  {
   "cell_type": "code",
   "execution_count": 13,
   "metadata": {},
   "outputs": [],
   "source": [
    "import random"
   ]
  },
  {
   "cell_type": "code",
   "execution_count": 14,
   "metadata": {},
   "outputs": [
    {
     "data": {
      "text/plain": [
       "[97, 95, 16, 4, 14, 94, 66, 41, 25, 57, 45, 81, 8, 26, 75]"
      ]
     },
     "execution_count": 14,
     "metadata": {},
     "output_type": "execute_result"
    }
   ],
   "source": [
    "l = random.sample(range(2,100), 15)\n",
    "l"
   ]
  },
  {
   "cell_type": "code",
   "execution_count": 15,
   "metadata": {},
   "outputs": [
    {
     "name": "stdout",
     "output_type": "stream",
     "text": [
      "CPU times: user 1.14 s, sys: 0 ns, total: 1.14 s\n",
      "Wall time: 1.14 s\n"
     ]
    },
    {
     "data": {
      "text/plain": [
       "(158808,\n",
       " '(((X·X)·((X·X)·(X·X)))·(((((((((((X·X)·(X·X))·(X·X))·(X·X))·(X·X))·(X·X))·(X·X))·(X·X))·(X·X))·(X·X))·(X·X)))')"
      ]
     },
     "execution_count": 15,
     "metadata": {},
     "output_type": "execute_result"
    }
   ],
   "source": [
    "%time opt(l)"
   ]
  },
  {
   "cell_type": "code",
   "execution_count": 16,
   "metadata": {},
   "outputs": [
    {
     "name": "stdout",
     "output_type": "stream",
     "text": [
      "CPU times: user 247 µs, sys: 906 µs, total: 1.15 ms\n",
      "Wall time: 1.16 ms\n"
     ]
    },
    {
     "data": {
      "text/plain": [
       "158808"
      ]
     },
     "execution_count": 16,
     "metadata": {},
     "output_type": "execute_result"
    }
   ],
   "source": [
    "memo = {}\n",
    "%time opt_memo(l, {})"
   ]
  },
  {
   "cell_type": "markdown",
   "metadata": {},
   "source": [
    "### solution dérécursivisée \"bottom-up\"\n",
    "\n",
    "À l'analyse de `opt_memo` on reconnaît que la fonction est appellée sur toutes les sous-suites de la suite d'entrée, de longueur $>=2$.\n",
    "\n",
    "Plutôt que stocker ces valeurs dans une table de hachage, dispendieuse en mémoire, on va utiliser une liste de listes (`bests`, dans le code) occupant le strict minimum de mémoire. Le tableau `bests` est structuré comme ceci : la liste `best[width]` contient les coûts optimaux pour chacune des sous-suites de largeur `width`, de gauche à droite.\n",
    "\n",
    "Ainsi, pour la suite $(10~5~4~7~8~9~5~3~11)$ en entrée, `bests[4][2]` contiendra le coût optimal pour la troisième suite de longueur $4$, c'est à dire $(4~7~8~9)$.\n",
    "\n",
    "On ajoute dans le code quelques affichages de debug, pour nous aider à visualiser le tableau `bests` au fur et à mesure qu'il est construit. Lisez la documentation sur le [formatage de chaînes de caractères en Python](https://docs.python.org/3.5/library/string.html#formatspec) pour comprendre la façon dont ces affichages sont construits."
   ]
  },
  {
   "cell_type": "code",
   "execution_count": 17,
   "metadata": {},
   "outputs": [],
   "source": [
    "def opt_derec(seq, debug=True):\n",
    "    if debug:\n",
    "        print(\"\".join('{:^8}'.format(s) for s in seq))\n",
    "        print(\"–\" * 8 * len(seq))\n",
    "    bests = [[], [], [0] * (len(seq) - 1)]\n",
    "    if debug:\n",
    "        print(\" \"*4 + \"\".join('{:^8}'.format(c) for c in bests[-1]))\n",
    "    for width in range(3, len(seq) + 1):\n",
    "        level = []\n",
    "        for i in range(len(seq) - width + 1):\n",
    "            cost = min(bests[split + 1][i]\n",
    "                       + bests[width - split][i + split] \n",
    "                       + seq[i]*seq[i+split]*seq[i+width-1]\n",
    "                       for split in range(1, width - 1))\n",
    "            level.append(cost)\n",
    "        bests.append(level)\n",
    "        if debug:\n",
    "            print(\" \"*4*(width-1) + \"\".join('{:^8}'.format(c) for c in bests[-1]))\n",
    "    return bests[-1][0]"
   ]
  },
  {
   "cell_type": "code",
   "execution_count": 18,
   "metadata": {},
   "outputs": [
    {
     "name": "stdout",
     "output_type": "stream",
     "text": [
      "   97      95      16      4       14      94      66      41      25      57      45      81      8       26      75   \n",
      "––––––––––––––––––––––––––––––––––––––––––––––––––––––––––––––––––––––––––––––––––––––––––––––––––––––––––––––––––––––––\n",
      "       0       0       0       0       0       0       0       0       0       0       0       0       0       0    \n",
      "         147440   6080    896     5264   86856   254364  67650   58425   64125   207765  29160   16848   15600  \n",
      "             42940   11400   11280   30080   124740  222750  161700  110250  155250  49680   38520   64200  \n",
      "                 48372   47064   34304   40904   139090  356700  206025  238275  61080   61536   71760  \n",
      "                     84676   61240   43528   45004   159040  392625  356550  69280   66280   99480  \n",
      "                         98628   62564   46604   50704   194950  568350  90928   77808   91680  \n",
      "                             99752   60584   54352   60964   245980  140560  104656  109480 \n",
      "                                 97644   78444   63844   75544   151088  160112  146128 \n",
      "                                     115760  84144   80728   78136   154000  212560 \n",
      "                                         121364  112404  78648   78968   175088 \n",
      "                                             149912  87256   80632   86768  \n",
      "                                                 124180  94928   91568  \n",
      "                                                     131996  121348 \n",
      "                                                         158808 \n",
      "CPU times: user 1.05 ms, sys: 0 ns, total: 1.05 ms\n",
      "Wall time: 916 µs\n"
     ]
    },
    {
     "data": {
      "text/plain": [
       "158808"
      ]
     },
     "execution_count": 18,
     "metadata": {},
     "output_type": "execute_result"
    }
   ],
   "source": [
    "%time opt_derec(l)"
   ]
  },
  {
   "cell_type": "markdown",
   "metadata": {},
   "source": [
    "On voit que le gain devient considéreable lorsqu'on augmente la taille des entrées"
   ]
  },
  {
   "cell_type": "code",
   "execution_count": 19,
   "metadata": {},
   "outputs": [
    {
     "name": "stdout",
     "output_type": "stream",
     "text": [
      "CPU times: user 12 ms, sys: 0 ns, total: 12 ms\n",
      "Wall time: 11.9 ms\n",
      "CPU times: user 1.94 ms, sys: 0 ns, total: 1.94 ms\n",
      "Wall time: 1.95 ms\n"
     ]
    },
    {
     "data": {
      "text/plain": [
       "462044"
      ]
     },
     "execution_count": 19,
     "metadata": {},
     "output_type": "execute_result"
    }
   ],
   "source": [
    "l = random.sample(range(2,100), 30)\n",
    "%time opt_memo(l, {})\n",
    "%time opt_derec(l, debug=False)"
   ]
  },
  {
   "cell_type": "markdown",
   "metadata": {},
   "source": [
    "**Exercice:** avec ce code, il est très simple maintenant d'analyser la complexité de l'algorithme ; donnez-en une estimation asymptotique."
   ]
  }
 ],
 "metadata": {
  "kernelspec": {
   "display_name": "Python 3",
   "language": "python",
   "name": "python3"
  },
  "language_info": {
   "codemirror_mode": {
    "name": "ipython",
    "version": 3
   },
   "file_extension": ".py",
   "mimetype": "text/x-python",
   "name": "python",
   "nbconvert_exporter": "python",
   "pygments_lexer": "ipython3",
   "version": "3.6.3"
  }
 },
 "nbformat": 4,
 "nbformat_minor": 2
}
