{
 "cells": [
  {
   "cell_type": "markdown",
   "metadata": {},
   "source": [
    "## Premier partie: matrices"
   ]
  },
  {
   "cell_type": "code",
   "execution_count": 1,
   "metadata": {},
   "outputs": [],
   "source": [
    "class Matrice:\n",
    "    def __init__(self, coefficients):\n",
    "        if len(coefficients) == 0:\n",
    "            raise RuntimeError(\"Matrice vide\")\n",
    "        self.nblignes = len(coefficients)\n",
    "        self.nbcolonnes = len(coefficients[0])\n",
    "        for l in coefficients:\n",
    "            if len(l) != self.nbcolonnes:\n",
    "                raise RuntimeError(\"Lignes de longueur différente\")\n",
    "        self.coeffs = coefficients\n",
    "        \n",
    "    def __repr__(self):\n",
    "        larg = max(len(str(c)) for ligne in self.coeffs for c in ligne)\n",
    "        aff = ''\n",
    "        for i, l in enumerate(self.coeffs):\n",
    "            if self.nblignes == 1:\n",
    "                delims = '〈%s 〉'\n",
    "            elif i == 0:\n",
    "                delims = '/%s \\\\\\n'\n",
    "            elif i == self.nblignes - 1:\n",
    "                delims = '\\\\%s /'\n",
    "            else:\n",
    "                delims = '|%s |\\n'\n",
    "            aff += delims % ''.join(' '*(larg-len(str(c))+1) + str(c)\n",
    "                                    for c in l)\n",
    "        return aff\n",
    "    \n",
    "    def __str__(self):\n",
    "        larg = max(len(str(c)) for ligne in self.coeffs for c in ligne)\n",
    "        templ = '{:>%d}' % (larg + 1)\n",
    "        aff = ''\n",
    "        for i, l in enumerate(self.coeffs):\n",
    "            aff += '|' + ''.join(templ.format(c) for c in l) + ' |\\n'\n",
    "        return aff\n",
    "    \n",
    "    def __eq__(self, other):\n",
    "        '''\n",
    "        Teste l'égalité de deux matrices coefficient par coefficient.\n",
    "        Appelé implicitement par A == B.\n",
    "        '''\n",
    "        return (self.nblignes == other.nblignes\n",
    "                and self.nbcolonnes == other.nbcolonnes\n",
    "                and all(self.coeffs[i][j] == other.coeffs[i][j]\n",
    "                   for i in range(self.nblignes)\n",
    "                   for j in range(self.nbcolonnes)))"
   ]
  },
  {
   "cell_type": "code",
   "execution_count": 2,
   "metadata": {},
   "outputs": [
    {
     "data": {
      "text/plain": [
       "/  1  0 \\\n",
       "\\  0 10 /"
      ]
     },
     "execution_count": 2,
     "metadata": {},
     "output_type": "execute_result"
    }
   ],
   "source": [
    "Matrice([[1,0],[0,10]])"
   ]
  },
  {
   "cell_type": "code",
   "execution_count": 3,
   "metadata": {},
   "outputs": [
    {
     "data": {
      "text/plain": [
       "/ 123 213 -10 \\\n",
       "|  23  39   0 |\n",
       "\\   1  -1   3 /"
      ]
     },
     "execution_count": 3,
     "metadata": {},
     "output_type": "execute_result"
    }
   ],
   "source": [
    "Matrice([[123,213,-10], [23, 39, 0], [1, -1, 3]])"
   ]
  },
  {
   "cell_type": "code",
   "execution_count": 4,
   "metadata": {},
   "outputs": [],
   "source": [
    "m = Matrice([[1,2]])"
   ]
  },
  {
   "cell_type": "code",
   "execution_count": 5,
   "metadata": {},
   "outputs": [
    {
     "data": {
      "text/plain": [
       "〈 1 2 〉"
      ]
     },
     "execution_count": 5,
     "metadata": {},
     "output_type": "execute_result"
    }
   ],
   "source": [
    "m"
   ]
  },
  {
   "cell_type": "code",
   "execution_count": 6,
   "metadata": {},
   "outputs": [
    {
     "data": {
      "text/plain": [
       "'| 1 2 |\\n'"
      ]
     },
     "execution_count": 6,
     "metadata": {},
     "output_type": "execute_result"
    }
   ],
   "source": [
    "str(m)"
   ]
  },
  {
   "cell_type": "code",
   "execution_count": 7,
   "metadata": {},
   "outputs": [],
   "source": [
    "import random\n",
    "\n",
    "def rand_mat(lignes, colonnes, coeffs, min=1, max=1, symetrique=False):\n",
    "    if symetrique:\n",
    "        assert lignes == colonnes, \"Une matrice symétrique doit être carrée\"\n",
    "        longueur = lignes * (lignes + 1) // 2\n",
    "    else:\n",
    "        longueur = lignes * colonnes\n",
    "    # on initialise un tableau avec coeffs valeurs aléatoires entre min et max\n",
    "    # et (longueur - coeffs) zéros\n",
    "    coefficients = [random.randint(min, max) for i in range(coeffs)] + [0]*(longueur - coeffs)\n",
    "    # On permute le tableau.\n",
    "    # On utilise ici le \"Knuth shuffle\" pour générer une permutation aléatoire uniforme.\n",
    "    # Exercice: prouver que le Knuth shuffle génère une permutation aléatoire uniforme.\n",
    "    for i in range(longueur):\n",
    "        j = random.randrange(i, longueur)\n",
    "        coefficients[i], coefficients[j] = coefficients[j], coefficients[i]\n",
    "    # On met les coefficients dans un tableau lignes × colonnes\n",
    "    mat = [[0]*colonnes for i in range(lignes)]\n",
    "    for i in range(lignes):\n",
    "        if symetrique:\n",
    "            start = i\n",
    "        else:\n",
    "            start = 0\n",
    "        for j in range(start, colonnes):\n",
    "            mat[i][j] = coefficients.pop()\n",
    "    if symetrique:\n",
    "        for i in range(lignes):\n",
    "            for j in range(0,i):\n",
    "                mat[i][j] = mat[j][i]\n",
    "        \n",
    "    # On met les coefficients dans une matrice\n",
    "    return Matrice(mat)"
   ]
  },
  {
   "cell_type": "code",
   "execution_count": 8,
   "metadata": {},
   "outputs": [
    {
     "data": {
      "text/plain": [
       "/ 0 1 0 \\\n",
       "\\ 1 1 0 /"
      ]
     },
     "execution_count": 8,
     "metadata": {},
     "output_type": "execute_result"
    }
   ],
   "source": [
    "rand_mat(2,3,3)"
   ]
  },
  {
   "cell_type": "code",
   "execution_count": 9,
   "metadata": {},
   "outputs": [
    {
     "data": {
      "text/plain": [
       "/   0  -3   0   0  -1   0   0   0   0   5 \\\n",
       "|   0   0   0   0   0   0   0   9   0  -4 |\n",
       "|  -7   2   0   0   0   0   0  -3   0   0 |\n",
       "|   0   0   0   0   0   0   1   8   0  -7 |\n",
       "|   0   0   0   0   0   0   0   0   0   0 |\n",
       "|   5   0   0   0   0  -3   8   0   0   0 |\n",
       "|   0   0   3   7   0   0   1   0   0   0 |\n",
       "|  -8   0   0   5   0   2   6   0   0   0 |\n",
       "|   0   0 -10   0   0   0   0   0   0   1 |\n",
       "\\ -10   0   0   0   0   0   0   6   9   0 /"
      ]
     },
     "execution_count": 9,
     "metadata": {},
     "output_type": "execute_result"
    }
   ],
   "source": [
    "rand_mat(10,10,30,-10,10)"
   ]
  },
  {
   "cell_type": "code",
   "execution_count": 10,
   "metadata": {},
   "outputs": [
    {
     "data": {
      "text/plain": [
       "/   0   2   0   8  -5  -7   0   0  -2  -1 \\\n",
       "|   2   5   0   0   4  -8 -10   0   0   3 |\n",
       "|   0   0  -1   0   0   0   0   9   0  -2 |\n",
       "|   8   0   0   0   6  -2   0   0  -6   4 |\n",
       "|  -5   4   0   6  -7   0   7   0  -5   0 |\n",
       "|  -7  -8   0  -2   0  -4   0  -1   2  -1 |\n",
       "|   0 -10   0   0   7   0   6   0  10   0 |\n",
       "|   0   0   9   0   0  -1   0   0   2  -9 |\n",
       "|  -2   0   0  -6  -5   2  10   2   0   0 |\n",
       "\\  -1   3  -2   4   0  -1   0  -9   0   0 /"
      ]
     },
     "execution_count": 10,
     "metadata": {},
     "output_type": "execute_result"
    }
   ],
   "source": [
    "rand_mat(10,10,30,-10,10, symetrique=True)"
   ]
  },
  {
   "cell_type": "markdown",
   "metadata": {},
   "source": [
    "## Deuxième partie: graphes"
   ]
  },
  {
   "cell_type": "code",
   "execution_count": 11,
   "metadata": {},
   "outputs": [],
   "source": [
    "class Noeud:\n",
    "    def __init__(self, nom):\n",
    "        self.nom = nom\n",
    "        self.voisins = []\n",
    "        \n",
    "    def __repr__(self):\n",
    "        return \"(%s)→[%s]\" % (self.nom, \n",
    "                              \",\".join(v.nom \n",
    "                                       for v in self.voisins))\n",
    "\n",
    "class Graphe:\n",
    "    def __init__(self, noeuds):\n",
    "        self.noeuds = noeuds\n",
    "        \n",
    "    def __repr__(self):\n",
    "        return \"\\n\".join(repr(n) for n in self.noeuds)\n",
    "    \n",
    "    def adjacence(self):\n",
    "        l = len(self.noeuds)\n",
    "        adj = [[0]*l for _ in range(l)]\n",
    "        for i, n in enumerate(self.noeuds):\n",
    "            for m in n.voisins:\n",
    "                adj[i][self.noeuds.index(m)] = 1\n",
    "        return Matrice(adj)"
   ]
  },
  {
   "cell_type": "code",
   "execution_count": 12,
   "metadata": {},
   "outputs": [
    {
     "data": {
      "text/plain": [
       "(A)→[B,D]\n",
       "(B)→[A,C]\n",
       "(C)→[A,B]\n",
       "(D)→[B]"
      ]
     },
     "execution_count": 12,
     "metadata": {},
     "output_type": "execute_result"
    }
   ],
   "source": [
    "a = Noeud(\"A\")\n",
    "b = Noeud(\"B\")\n",
    "c = Noeud(\"C\")\n",
    "d = Noeud(\"D\")\n",
    "a.voisins = [b, d]\n",
    "b.voisins = [a, c]\n",
    "c.voisins = [a, b]\n",
    "d.voisins = [b]\n",
    "G = Graphe([a,b,c,d])\n",
    "G"
   ]
  },
  {
   "cell_type": "code",
   "execution_count": 13,
   "metadata": {},
   "outputs": [],
   "source": [
    "def graphe(mat):\n",
    "    assert mat.nblignes == mat.nbcolonnes, \"La matrice n'est pas carrée.\"\n",
    "    assert all(c in (0,1) \n",
    "               for l in mat.coeffs for c in l), \"La matrice n'est pas binaire\"\n",
    "    noeuds = [Noeud(str(i+1)) \n",
    "              for i in range(mat.nblignes)]\n",
    "    for i, l in enumerate(mat.coeffs):\n",
    "        for j, c in enumerate(l):\n",
    "            if c:\n",
    "                noeuds[i].voisins.append(noeuds[j])\n",
    "    return Graphe(noeuds)"
   ]
  },
  {
   "cell_type": "code",
   "execution_count": 14,
   "metadata": {},
   "outputs": [
    {
     "data": {
      "text/plain": [
       "/ 0 0 1 1 0 \\\n",
       "| 1 0 1 0 0 |\n",
       "| 1 0 0 0 0 |\n",
       "| 1 0 1 0 0 |\n",
       "\\ 1 1 1 0 0 /"
      ]
     },
     "execution_count": 14,
     "metadata": {},
     "output_type": "execute_result"
    }
   ],
   "source": [
    "m = rand_mat(5,5,10)\n",
    "m"
   ]
  },
  {
   "cell_type": "code",
   "execution_count": 15,
   "metadata": {},
   "outputs": [
    {
     "data": {
      "text/plain": [
       "(1)→[3,4]\n",
       "(2)→[1,3]\n",
       "(3)→[1]\n",
       "(4)→[1,3]\n",
       "(5)→[1,2,3]"
      ]
     },
     "execution_count": 15,
     "metadata": {},
     "output_type": "execute_result"
    }
   ],
   "source": [
    "G = graphe(m)\n",
    "G"
   ]
  },
  {
   "cell_type": "code",
   "execution_count": 16,
   "metadata": {},
   "outputs": [
    {
     "data": {
      "text/plain": [
       "/ 0 0 1 1 0 \\\n",
       "| 1 0 1 0 0 |\n",
       "| 1 0 0 0 0 |\n",
       "| 1 0 1 0 0 |\n",
       "\\ 1 1 1 0 0 /"
      ]
     },
     "execution_count": 16,
     "metadata": {},
     "output_type": "execute_result"
    }
   ],
   "source": [
    "m2 = G.adjacence()\n",
    "m2"
   ]
  },
  {
   "cell_type": "code",
   "execution_count": 17,
   "metadata": {},
   "outputs": [
    {
     "data": {
      "text/plain": [
       "True"
      ]
     },
     "execution_count": 17,
     "metadata": {},
     "output_type": "execute_result"
    }
   ],
   "source": [
    "m2 == m"
   ]
  },
  {
   "cell_type": "markdown",
   "metadata": {},
   "source": [
    "## Troisième partie: parcours de graphes"
   ]
  },
  {
   "cell_type": "code",
   "execution_count": 18,
   "metadata": {},
   "outputs": [],
   "source": [
    "# Pour simplifier le calcul des composantes connexes,\n",
    "# on supposera que G est non-orienté.\n",
    "# On laisse en exercice l'adaptation au cas orienté.\n",
    "def parcours(G):\n",
    "    # On marque tous les sommets\n",
    "    for v in G.noeuds:\n",
    "        v._dist = None     # distance de l'origine\n",
    "        v._comp = None     # composante connexe\n",
    "                           # (chaque composante sera marquée par un entier)\n",
    "        \n",
    "    G._comps = 0          # compteur des composantes\n",
    "    for v in G.noeuds:\n",
    "        if v._comp is None:\n",
    "            v._comp = G._comps\n",
    "            G._comps += 1\n",
    "            v._dist = 0\n",
    "            pile = [v]\n",
    "            while pile:         # pile équivaut à True ssi elle est non-vide\n",
    "                a = pile.pop(0)\n",
    "                for b in a.voisins:\n",
    "                    if b._dist is None:\n",
    "                        b._dist = a._dist + 1\n",
    "                        b._comp = a._comp\n",
    "                        pile.append(b)"
   ]
  },
  {
   "cell_type": "code",
   "execution_count": 56,
   "metadata": {},
   "outputs": [],
   "source": [
    "G = graphe(rand_mat(15,15,20,symetrique=True))\n",
    "parcours(G)"
   ]
  },
  {
   "cell_type": "code",
   "execution_count": 57,
   "metadata": {},
   "outputs": [
    {
     "data": {
      "text/plain": [
       "2"
      ]
     },
     "execution_count": 57,
     "metadata": {},
     "output_type": "execute_result"
    }
   ],
   "source": [
    "G._comps"
   ]
  },
  {
   "cell_type": "code",
   "execution_count": 58,
   "metadata": {},
   "outputs": [
    {
     "name": "stdout",
     "output_type": "stream",
     "text": [
      "Composante #0:\n",
      "(1)→[5,7,9,11]\n",
      "(2)→[9,12]\n",
      "(3)→[5,7,9]\n",
      "(5)→[1,3]\n",
      "(6)→[9,13]\n",
      "(7)→[1,3,7,12,15]\n",
      "(9)→[1,2,3,6,11,13]\n",
      "(11)→[1,9]\n",
      "(12)→[2,7]\n",
      "(13)→[6,9]\n",
      "(15)→[7]\n",
      "\n",
      "Composante #1:\n",
      "(4)→[8,10]\n",
      "(8)→[4,10]\n",
      "(10)→[4,8,14]\n",
      "(14)→[10]\n",
      "\n"
     ]
    }
   ],
   "source": [
    "for i in range(G._comps):\n",
    "    print(\"Composante #%d:\" % i)\n",
    "    for n in G.noeuds:\n",
    "        if n._comp == i:\n",
    "            print(n)\n",
    "    print()"
   ]
  }
 ],
 "metadata": {
  "kernelspec": {
   "display_name": "Python 3",
   "language": "python",
   "name": "python3"
  },
  "language_info": {
   "codemirror_mode": {
    "name": "ipython",
    "version": 3
   },
   "file_extension": ".py",
   "mimetype": "text/x-python",
   "name": "python",
   "nbconvert_exporter": "python",
   "pygments_lexer": "ipython3",
   "version": "3.6.3"
  }
 },
 "nbformat": 4,
 "nbformat_minor": 2
}
