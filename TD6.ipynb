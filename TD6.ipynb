{
 "cells": [
  {
   "cell_type": "code",
   "execution_count": 1,
   "metadata": {},
   "outputs": [],
   "source": [
    "class Matrice:\n",
    "    def __init__(self, coefficients):\n",
    "        if len(coefficients) == 0:\n",
    "            raise RuntimeError(\"Matrice vide\")\n",
    "        self.nblignes = len(coefficients)\n",
    "        self.nbcolonnes = len(coefficients[0])\n",
    "        for l in coefficients:\n",
    "            if len(l) != self.nbcolonnes:\n",
    "                raise RuntimeError(\"Lignes de longueur différente\")\n",
    "        self.coeffs = coefficients\n",
    "        \n",
    "    def __repr__(self):\n",
    "        larg = max(len(str(c)) for ligne in self.coeffs for c in ligne)\n",
    "        aff = ''\n",
    "        for i, l in enumerate(self.coeffs):\n",
    "            if self.nblignes == 1:\n",
    "                delims = '〈%s 〉'\n",
    "            elif i == 0:\n",
    "                delims = '/%s \\\\\\n'\n",
    "            elif i == self.nblignes - 1:\n",
    "                delims = '\\\\%s /'\n",
    "            else:\n",
    "                delims = '|%s |\\n'\n",
    "            aff += delims % ''.join(' '*(larg-len(str(c))+1) + str(c)\n",
    "                                    for c in l)\n",
    "        return aff\n",
    "    \n",
    "    def __str__(self):\n",
    "        larg = max(len(str(c)) for ligne in self.coeffs for c in ligne)\n",
    "        templ = '{:>%d}' % (larg + 1)\n",
    "        aff = ''\n",
    "        for i, l in enumerate(self.coeffs):\n",
    "            aff += '|' + ''.join(templ.format(c) for c in l) + ' |\\n'\n",
    "        return aff"
   ]
  },
  {
   "cell_type": "code",
   "execution_count": 2,
   "metadata": {},
   "outputs": [
    {
     "data": {
      "text/plain": [
       "/  1  0 \\\n",
       "\\  0 10 /"
      ]
     },
     "execution_count": 2,
     "metadata": {},
     "output_type": "execute_result"
    }
   ],
   "source": [
    "Matrice([[1,0],[0,10]])"
   ]
  },
  {
   "cell_type": "code",
   "execution_count": 3,
   "metadata": {},
   "outputs": [
    {
     "data": {
      "text/plain": [
       "/ 123 213 -10 \\\n",
       "|  23  39   0 |\n",
       "\\   1  -1   3 /"
      ]
     },
     "execution_count": 3,
     "metadata": {},
     "output_type": "execute_result"
    }
   ],
   "source": [
    "Matrice([[123,213,-10], [23, 39, 0], [1, -1, 3]])"
   ]
  },
  {
   "cell_type": "code",
   "execution_count": 4,
   "metadata": {},
   "outputs": [],
   "source": [
    "m = Matrice([[1,2]])"
   ]
  },
  {
   "cell_type": "code",
   "execution_count": 5,
   "metadata": {},
   "outputs": [
    {
     "data": {
      "text/plain": [
       "〈 1 2 〉"
      ]
     },
     "execution_count": 5,
     "metadata": {},
     "output_type": "execute_result"
    }
   ],
   "source": [
    "m"
   ]
  },
  {
   "cell_type": "code",
   "execution_count": 6,
   "metadata": {},
   "outputs": [
    {
     "data": {
      "text/plain": [
       "'| 1 2 |\\n'"
      ]
     },
     "execution_count": 6,
     "metadata": {},
     "output_type": "execute_result"
    }
   ],
   "source": [
    "str(m)"
   ]
  },
  {
   "cell_type": "code",
   "execution_count": 7,
   "metadata": {},
   "outputs": [],
   "source": [
    "import random\n",
    "\n",
    "def rand_mat(lignes, colonnes, coeffs, min=1, max=1, symetrique=False):\n",
    "    if symetrique:\n",
    "        assert lignes == colonnes, \"Une matrice symétrique doit être carrée\"\n",
    "        longueur = lignes * (lignes + 1) // 2\n",
    "    else:\n",
    "        longueur = lignes * colonnes\n",
    "    # on initialise un tableau avec coeffs valeurs aléatoires entre min et max\n",
    "    # et (longueur - coeffs) zéros\n",
    "    coefficients = [random.randint(min, max) for i in range(coeffs)] + [0]*(longueur - coeffs)\n",
    "    # On permute le tableau.\n",
    "    # On utilise ici le \"Knuth shuffle\" pour générer une permutation aléatoire uniforme.\n",
    "    # Exercice: prouver que le Knuth shuffle génère une permutation aléatoire uniforme.\n",
    "    for i in range(longueur):\n",
    "        j = random.randrange(i, longueur)\n",
    "        coefficients[i], coefficients[j] = coefficients[j], coefficients[i]\n",
    "    # On met les coefficients dans un tableau lignes × colonnes\n",
    "    mat = [[0]*colonnes for i in range(lignes)]\n",
    "    for i in range(lignes):\n",
    "        if symetrique:\n",
    "            start = i\n",
    "        else:\n",
    "            start = 0\n",
    "        for j in range(start, colonnes):\n",
    "            mat[i][j] = coefficients.pop()\n",
    "    if symetrique:\n",
    "        for i in range(lignes):\n",
    "            for j in range(0,i):\n",
    "                mat[i][j] = mat[j][i]\n",
    "        \n",
    "    # On met les coefficients dans une matrice\n",
    "    return Matrice(mat)"
   ]
  },
  {
   "cell_type": "code",
   "execution_count": 8,
   "metadata": {},
   "outputs": [
    {
     "data": {
      "text/plain": [
       "/ 1 0 0 \\\n",
       "\\ 1 0 1 /"
      ]
     },
     "execution_count": 8,
     "metadata": {},
     "output_type": "execute_result"
    }
   ],
   "source": [
    "rand_mat(2,3,3)"
   ]
  },
  {
   "cell_type": "code",
   "execution_count": 9,
   "metadata": {},
   "outputs": [
    {
     "data": {
      "text/plain": [
       "/  0 -5  0  0  0  0 -6  0  0  0 \\\n",
       "|  0  0  0  0  0  0  0  0  0  3 |\n",
       "|  0  0 -4  0  1  0  7  6  0  0 |\n",
       "|  0  0 -2  0  0  0  0  0  6  3 |\n",
       "|  1 -6  0  0  0  7  0  0  0 -8 |\n",
       "|  9  0  0  0  0 -2  0  0  0 -3 |\n",
       "|  5  0  0 -8 -2  0  0  0 -2  0 |\n",
       "|  0  0  0 -8  0  0  8  0  0  0 |\n",
       "|  0  5  0  0  0  0  0  0 -9  3 |\n",
       "\\  0  0  0  0  0  0  5  6 -5  0 /"
      ]
     },
     "execution_count": 9,
     "metadata": {},
     "output_type": "execute_result"
    }
   ],
   "source": [
    "rand_mat(10,10,30,-10,10)"
   ]
  },
  {
   "cell_type": "code",
   "execution_count": 10,
   "metadata": {},
   "outputs": [
    {
     "data": {
      "text/plain": [
       "/   0   0   0   1   8   0  10   1   0   0 \\\n",
       "|   0 -10   2  -5   0  -9  -6   0  -8  -3 |\n",
       "|   0   2   0  -1   0  -9   0   5   0  10 |\n",
       "|   1  -5  -1   3   5   0   6   0   0   2 |\n",
       "|   8   0   0   5   0   0   7   0   7  -5 |\n",
       "|   0  -9  -9   0   0   0  -6   0  -1 -10 |\n",
       "|  10  -6   0   6   7  -6   0  -5  10   0 |\n",
       "|   1   0   5   0   0   0  -5  -5   0  10 |\n",
       "|   0  -8   0   0   7  -1  10   0   0   0 |\n",
       "\\   0  -3  10   2  -5 -10   0  10   0   0 /"
      ]
     },
     "execution_count": 10,
     "metadata": {},
     "output_type": "execute_result"
    }
   ],
   "source": [
    "rand_mat(10,10,30,-10,10, symetrique=True)"
   ]
  },
  {
   "cell_type": "code",
   "execution_count": null,
   "metadata": {},
   "outputs": [],
   "source": []
  }
 ],
 "metadata": {
  "kernelspec": {
   "display_name": "Python 3",
   "language": "python",
   "name": "python3"
  },
  "language_info": {
   "codemirror_mode": {
    "name": "ipython",
    "version": 3
   },
   "file_extension": ".py",
   "mimetype": "text/x-python",
   "name": "python",
   "nbconvert_exporter": "python",
   "pygments_lexer": "ipython3",
   "version": "3.6.3"
  }
 },
 "nbformat": 4,
 "nbformat_minor": 2
}
