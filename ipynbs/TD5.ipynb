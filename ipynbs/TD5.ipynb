{
 "cells": [
  {
   "cell_type": "markdown",
   "metadata": {},
   "source": [
    "## Sur l'utilisation des dictionnaires en Python\n",
    "\n",
    "Tout object \"immuable\" peut être utilisé comme clef d'un dictionnaire Python"
   ]
  },
  {
   "cell_type": "code",
   "execution_count": 1,
   "metadata": {},
   "outputs": [
    {
     "data": {
      "text/plain": [
       "{1: 10, 'bla': 0}"
      ]
     },
     "execution_count": 1,
     "metadata": {},
     "output_type": "execute_result"
    }
   ],
   "source": [
    "memo = {}\n",
    "memo[1] = 10\n",
    "memo['bla'] = 0\n",
    "memo"
   ]
  },
  {
   "cell_type": "markdown",
   "metadata": {},
   "source": [
    "Cependant les lists ne sont pas des objets immuables !"
   ]
  },
  {
   "cell_type": "code",
   "execution_count": 2,
   "metadata": {},
   "outputs": [
    {
     "ename": "TypeError",
     "evalue": "unhashable type: 'list'",
     "output_type": "error",
     "traceback": [
      "\u001b[0;31m---------------------------------------------------------------------------\u001b[0m",
      "\u001b[0;31mTypeError\u001b[0m                                 Traceback (most recent call last)",
      "\u001b[0;32m<ipython-input-2-0024cad64c3a>\u001b[0m in \u001b[0;36m<module>\u001b[0;34m()\u001b[0m\n\u001b[1;32m      1\u001b[0m \u001b[0ml\u001b[0m \u001b[0;34m=\u001b[0m \u001b[0;34m[\u001b[0m\u001b[0;36m1\u001b[0m\u001b[0;34m,\u001b[0m\u001b[0;36m2\u001b[0m\u001b[0;34m,\u001b[0m\u001b[0;36m3\u001b[0m\u001b[0;34m,\u001b[0m\u001b[0;36m4\u001b[0m\u001b[0;34m,\u001b[0m\u001b[0;36m5\u001b[0m\u001b[0;34m]\u001b[0m\u001b[0;34m\u001b[0m\u001b[0m\n\u001b[0;32m----> 2\u001b[0;31m \u001b[0mmemo\u001b[0m\u001b[0;34m[\u001b[0m\u001b[0ml\u001b[0m\u001b[0;34m]\u001b[0m \u001b[0;34m=\u001b[0m \u001b[0;34m-\u001b[0m\u001b[0;36m1\u001b[0m\u001b[0;34m\u001b[0m\u001b[0m\n\u001b[0m",
      "\u001b[0;31mTypeError\u001b[0m: unhashable type: 'list'"
     ]
    }
   ],
   "source": [
    "l = [1,2,3,4,5]\n",
    "memo[l] = -1"
   ]
  },
  {
   "cell_type": "markdown",
   "metadata": {},
   "source": [
    "En effet, Python associée un hashé à tous les objets immuables, mais pas aux objets dits *\"unashable\"*"
   ]
  },
  {
   "cell_type": "code",
   "execution_count": 3,
   "metadata": {},
   "outputs": [
    {
     "data": {
      "text/plain": [
       "7418075971660019129"
      ]
     },
     "execution_count": 3,
     "metadata": {},
     "output_type": "execute_result"
    }
   ],
   "source": [
    "hash('bla')"
   ]
  },
  {
   "cell_type": "code",
   "execution_count": 4,
   "metadata": {},
   "outputs": [
    {
     "data": {
      "text/plain": [
       "16777216"
      ]
     },
     "execution_count": 4,
     "metadata": {},
     "output_type": "execute_result"
    }
   ],
   "source": [
    "hash(2**1000)"
   ]
  },
  {
   "cell_type": "code",
   "execution_count": 5,
   "metadata": {},
   "outputs": [
    {
     "ename": "TypeError",
     "evalue": "unhashable type: 'list'",
     "output_type": "error",
     "traceback": [
      "\u001b[0;31m---------------------------------------------------------------------------\u001b[0m",
      "\u001b[0;31mTypeError\u001b[0m                                 Traceback (most recent call last)",
      "\u001b[0;32m<ipython-input-5-7a4e953a7f49>\u001b[0m in \u001b[0;36m<module>\u001b[0;34m()\u001b[0m\n\u001b[0;32m----> 1\u001b[0;31m \u001b[0mhash\u001b[0m\u001b[0;34m(\u001b[0m\u001b[0ml\u001b[0m\u001b[0;34m)\u001b[0m\u001b[0;34m\u001b[0m\u001b[0m\n\u001b[0m",
      "\u001b[0;31mTypeError\u001b[0m: unhashable type: 'list'"
     ]
    }
   ],
   "source": [
    "hash(l)"
   ]
  },
  {
   "cell_type": "markdown",
   "metadata": {},
   "source": [
    "Voici une solution pour utiliser des listes comme clefs dans un dictionnaire Python: les convertir en chaînes de caractères"
   ]
  },
  {
   "cell_type": "code",
   "execution_count": 6,
   "metadata": {},
   "outputs": [
    {
     "data": {
      "text/plain": [
       "'[1, 2, 3, 4, 5]'"
      ]
     },
     "execution_count": 6,
     "metadata": {},
     "output_type": "execute_result"
    }
   ],
   "source": [
    "str(l)"
   ]
  },
  {
   "cell_type": "code",
   "execution_count": 7,
   "metadata": {},
   "outputs": [
    {
     "data": {
      "text/plain": [
       "[1, 2, 3, 4, 5]"
      ]
     },
     "execution_count": 7,
     "metadata": {},
     "output_type": "execute_result"
    }
   ],
   "source": [
    "l"
   ]
  },
  {
   "cell_type": "code",
   "execution_count": 8,
   "metadata": {},
   "outputs": [
    {
     "data": {
      "text/plain": [
       "{1: 10, 'bla': 0, '[1, 2, 3, 4, 5]': 100}"
      ]
     },
     "execution_count": 8,
     "metadata": {},
     "output_type": "execute_result"
    }
   ],
   "source": [
    "memo[str(l)] = 100\n",
    "memo"
   ]
  },
  {
   "cell_type": "markdown",
   "metadata": {},
   "source": [
    "## Exercice 1\n",
    "\n",
    "### solution récursive naïve\n",
    "\n",
    "Avec le meilleur parenthèsage en bonus !"
   ]
  },
  {
   "cell_type": "code",
   "execution_count": 9,
   "metadata": {},
   "outputs": [],
   "source": [
    "def opt(seq):\n",
    "    if len(seq) <= 2:\n",
    "        return 0, 'X'\n",
    "    m = float(\"inf\")  # Valeur spéciale \"infini\" (Python-only)\n",
    "    shape = None\n",
    "    for i in range(1, len(seq)-1):\n",
    "        A, shl = opt(seq[:i+1])\n",
    "        B, shr = opt(seq[i:])\n",
    "        n = A + B + seq[0]*seq[i]*seq[-1]\n",
    "        if n < m:\n",
    "            m = n\n",
    "            shape = '(%s·%s)' % (shl,shr)\n",
    "    return m, shape"
   ]
  },
  {
   "cell_type": "code",
   "execution_count": 10,
   "metadata": {},
   "outputs": [
    {
     "name": "stdout",
     "output_type": "stream",
     "text": [
      "CPU times: user 192 µs, sys: 33 µs, total: 225 µs\n",
      "Wall time: 229 µs\n"
     ]
    },
    {
     "data": {
      "text/plain": [
       "(2010, '((X·X)·((X·X)·(X·X)))')"
      ]
     },
     "execution_count": 10,
     "metadata": {},
     "output_type": "execute_result"
    }
   ],
   "source": [
    "%time opt([5,10,3,12,5,50,6])"
   ]
  },
  {
   "cell_type": "markdown",
   "metadata": {},
   "source": [
    "### solution récursive avec mémoisation\n",
    "\n",
    "À partir de maintenant, on donne juste le coût optimal, pour simplicité. La modification pour avoir le parenthèsage est immédiate."
   ]
  },
  {
   "cell_type": "code",
   "execution_count": 11,
   "metadata": {},
   "outputs": [],
   "source": [
    "def opt_memo(seq, memo):  # memo est la table de hachage à utiliser pour la mémoisation,\n",
    "                          # passer un dictionnaire vide lorsqu'on appelle la fonction\n",
    "    cle = str(seq)\n",
    "    if cle in memo:\n",
    "        return memo[cle]\n",
    "    if len(seq) <= 2:\n",
    "        return 0\n",
    "    m = float(\"inf\")  # Valeur spéciale \"infini\" (Python-only)\n",
    "    for i in range(1, len(seq)-1):\n",
    "        n = opt_memo(seq[:i+1], memo) + opt_memo(seq[i:], memo) + seq[0]*seq[i]*seq[-1]\n",
    "        if n < m:\n",
    "            m = n\n",
    "    memo[cle] = m\n",
    "    return m"
   ]
  },
  {
   "cell_type": "code",
   "execution_count": 12,
   "metadata": {},
   "outputs": [
    {
     "name": "stdout",
     "output_type": "stream",
     "text": [
      "CPU times: user 99 µs, sys: 17 µs, total: 116 µs\n",
      "Wall time: 120 µs\n"
     ]
    },
    {
     "data": {
      "text/plain": [
       "2010"
      ]
     },
     "execution_count": 12,
     "metadata": {},
     "output_type": "execute_result"
    }
   ],
   "source": [
    "%time opt_memo([5,10,3,12,5,50,6], {})"
   ]
  },
  {
   "cell_type": "markdown",
   "metadata": {},
   "source": [
    "comparons les performances sur une entrée un peu plus consistante (une partie de la différence est due au fait que `opt` renvoie le parenthésage alors que `opt_memo` ne le fait pas, mais l'impact est négligeable face au gain dû à la mémoisation)."
   ]
  },
  {
   "cell_type": "code",
   "execution_count": 13,
   "metadata": {},
   "outputs": [],
   "source": [
    "import random"
   ]
  },
  {
   "cell_type": "code",
   "execution_count": 14,
   "metadata": {},
   "outputs": [
    {
     "data": {
      "text/plain": [
       "[50, 22, 63, 35, 75, 78, 67, 2, 84, 73, 29, 3, 53, 64, 97]"
      ]
     },
     "execution_count": 14,
     "metadata": {},
     "output_type": "execute_result"
    }
   ],
   "source": [
    "l = random.sample(range(2,100), 15)\n",
    "l"
   ]
  },
  {
   "cell_type": "code",
   "execution_count": 15,
   "metadata": {},
   "outputs": [
    {
     "name": "stdout",
     "output_type": "stream",
     "text": [
      "CPU times: user 1.42 s, sys: 0 ns, total: 1.42 s\n",
      "Wall time: 1.42 s\n"
     ]
    },
    {
     "data": {
      "text/plain": [
       "(82674, '((X·(X·(X·(X·(X·(X·X))))))·((((((X·X)·X)·X)·X)·X)·X))')"
      ]
     },
     "execution_count": 15,
     "metadata": {},
     "output_type": "execute_result"
    }
   ],
   "source": [
    "%time opt(l)"
   ]
  },
  {
   "cell_type": "code",
   "execution_count": 16,
   "metadata": {},
   "outputs": [
    {
     "name": "stdout",
     "output_type": "stream",
     "text": [
      "CPU times: user 1.37 ms, sys: 0 ns, total: 1.37 ms\n",
      "Wall time: 1.37 ms\n"
     ]
    },
    {
     "data": {
      "text/plain": [
       "82674"
      ]
     },
     "execution_count": 16,
     "metadata": {},
     "output_type": "execute_result"
    }
   ],
   "source": [
    "memo = {}\n",
    "%time opt_memo(l, {})"
   ]
  },
  {
   "cell_type": "markdown",
   "metadata": {},
   "source": [
    "### solution dérécursivisée \"bottom-up\"\n",
    "\n",
    "À l'analyse de `opt_memo` on reconnaît que la fonction est appellée sur toutes les sous-suites de la suite d'entrée, de longueur $>=2$.\n",
    "\n",
    "Plutôt que stocker ces valeurs dans une table de hachage, dispendieuse en mémoire, on va utiliser une liste de listes (`bests`, dans le code) occupant le strict minimum de mémoire. Le tableau `bests` est structuré comme ceci : la liste `best[width]` contient les coûts optimaux pour chacune des sous-suites de largeur `width`, de gauche à droite.\n",
    "\n",
    "Ainsi, pour la suite $(10~5~4~7~8~9~5~3~11)$ en entrée, `bests[4][2]` contiendra le coût optimal pour la troisième suite de longueur $4$, c'est à dire $(4~7~8~9)$.\n",
    "\n",
    "On ajoute dans le code quelques affichages de debug, pour nous aider à visualiser le tableau `bests` au fur et à mesure qu'il est construit. Lisez la documentation sur le [formatage de chaînes de caractères en Python](https://docs.python.org/3.5/library/string.html#formatspec) pour comprendre la façon dont ces affichages sont construits."
   ]
  },
  {
   "cell_type": "code",
   "execution_count": 17,
   "metadata": {},
   "outputs": [],
   "source": [
    "def opt_derec(seq, debug=True):\n",
    "    if debug:\n",
    "        print(\"\".join('{:^8}'.format(s) for s in seq))\n",
    "        print(\"–\" * 8 * len(seq))\n",
    "    bests = [[], [], [0] * (len(seq) - 1)]\n",
    "    if debug:\n",
    "        print(\" \"*4 + \"\".join('{:^8}'.format(c) for c in bests[-1]))\n",
    "    for width in range(3, len(seq) + 1):\n",
    "        level = []\n",
    "        for i in range(len(seq) - width + 1):\n",
    "            cost = min(bests[split + 1][i]\n",
    "                       + bests[width - split][i + split] \n",
    "                       + seq[i]*seq[i+split]*seq[i+width-1]\n",
    "                       for split in range(1, width - 1))\n",
    "            level.append(cost)\n",
    "        bests.append(level)\n",
    "        if debug:\n",
    "            print(\" \"*4*(width-1) + \"\".join('{:^8}'.format(c) for c in bests[-1]))\n",
    "    return bests[-1][0]"
   ]
  },
  {
   "cell_type": "code",
   "execution_count": 18,
   "metadata": {},
   "outputs": [
    {
     "name": "stdout",
     "output_type": "stream",
     "text": [
      "   50      22      63      35      75      78      67      2       84      73      29      3       53      64      97   \n",
      "––––––––––––––––––––––––––––––––––––––––––––––––––––––––––––––––––––––––––––––––––––––––––––––––––––––––––––––––––––––––\n",
      "       0       0       0       0       0       0       0       0       0       0       0       0       0       0    \n",
      "         69300   48510   165375  204750  391950  10452   11256   12264   177828   6351    4611   10176   329024 \n",
      "             87010   106260  376740  387660  22152   23556   22046   16498   24747   17958   15744   28800  \n",
      "                 188760  234960  535395  27402   34752   34104   20384   16672   38103   30543   37239  \n",
      "                     320760  349932  31812   33282   45366   31474   17074   16990   51051   56394  \n",
      "                         423632  34584   42396   44776   43000   27592   24092   23774   77991  \n",
      "                             36784   38280   53274   45930   39274   35710   32350   36190  \n",
      "                                 45184   50060   51964   44284   47092   44210   49188  \n",
      "                                     56348   52358   48862   48102   55526   61774  \n",
      "                                         56182   51388   55480   55656   72892  \n",
      "                                             53756   53906   63650   70382  \n",
      "                                                 59074   61174   80224  \n",
      "                                                     66958   75042  \n",
      "                                                         82674  \n",
      "CPU times: user 0 ns, sys: 1.14 ms, total: 1.14 ms\n",
      "Wall time: 922 µs\n"
     ]
    },
    {
     "data": {
      "text/plain": [
       "82674"
      ]
     },
     "execution_count": 18,
     "metadata": {},
     "output_type": "execute_result"
    }
   ],
   "source": [
    "%time opt_derec(l)"
   ]
  },
  {
   "cell_type": "markdown",
   "metadata": {},
   "source": [
    "On voit que le gain devient considéreable lorsqu'on augmente la taille des entrées"
   ]
  },
  {
   "cell_type": "code",
   "execution_count": 19,
   "metadata": {},
   "outputs": [
    {
     "name": "stdout",
     "output_type": "stream",
     "text": [
      "CPU times: user 10.5 ms, sys: 4.17 ms, total: 14.7 ms\n",
      "Wall time: 14.4 ms\n",
      "CPU times: user 2.57 ms, sys: 0 ns, total: 2.57 ms\n",
      "Wall time: 2.57 ms\n"
     ]
    },
    {
     "data": {
      "text/plain": [
       "364080"
      ]
     },
     "execution_count": 19,
     "metadata": {},
     "output_type": "execute_result"
    }
   ],
   "source": [
    "l = random.sample(range(2,100), 30)\n",
    "%time opt_memo(l, {})\n",
    "%time opt_derec(l, debug=False)"
   ]
  },
  {
   "cell_type": "markdown",
   "metadata": {},
   "source": [
    "**Exercice:** avec ce code, il est très simple maintenant d'analyser la complexité de l'algorithme ; donnez-en une estimation asymptotique."
   ]
  }
 ],
 "metadata": {
  "kernelspec": {
   "display_name": "Python 3",
   "language": "python",
   "name": "python3"
  },
  "language_info": {
   "codemirror_mode": {
    "name": "ipython",
    "version": 3
   },
   "file_extension": ".py",
   "mimetype": "text/x-python",
   "name": "python",
   "nbconvert_exporter": "python",
   "pygments_lexer": "ipython3",
   "version": "3.6.3"
  }
 },
 "nbformat": 4,
 "nbformat_minor": 2
}
