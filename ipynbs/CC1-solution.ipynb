{
 "cells": [
  {
   "cell_type": "markdown",
   "metadata": {},
   "source": [
    "# Analyse d'algorithmes et programmation – Premier contrôle\n",
    "\n",
    "## Exercice 1\n",
    "\n",
    "L'algorithme de tri ci-dessous contient une erreur.\n",
    "\n",
    "1. Trouver une entrée sur laquelle l'algorithme trie mal,\n",
    "2. Corriger l'erreur."
   ]
  },
  {
   "cell_type": "code",
   "execution_count": 1,
   "metadata": {},
   "outputs": [],
   "source": [
    "def almost_right_sort(liste):\n",
    "    n = len(liste)\n",
    "    for i in range(1,n):\n",
    "        minpos = i\n",
    "        for j in range(i,n):\n",
    "            if liste[j] < liste[minpos]:\n",
    "                minpos = j\n",
    "        liste[i], liste[minpos] = liste[minpos], liste[i]\n",
    "    return liste"
   ]
  },
  {
   "cell_type": "code",
   "execution_count": 2,
   "metadata": {},
   "outputs": [
    {
     "data": {
      "text/plain": [
       "[100, 126, 315, 401, 597]"
      ]
     },
     "execution_count": 2,
     "metadata": {},
     "output_type": "execute_result"
    }
   ],
   "source": [
    "almost_right_sort([100,401,315,597,126])"
   ]
  },
  {
   "cell_type": "markdown",
   "metadata": {},
   "source": [
    "L'algorithme ne trie pas correctement le premier élément de la liste. Le fix est simple: modifier les bornes de la première boucle `for`"
   ]
  },
  {
   "cell_type": "code",
   "execution_count": 3,
   "metadata": {},
   "outputs": [
    {
     "data": {
      "text/plain": [
       "[1000, 126, 315, 401, 597]"
      ]
     },
     "execution_count": 3,
     "metadata": {},
     "output_type": "execute_result"
    }
   ],
   "source": [
    "almost_right_sort([1000,401,315,597,126])"
   ]
  },
  {
   "cell_type": "code",
   "execution_count": 4,
   "metadata": {},
   "outputs": [],
   "source": [
    "def right_sort(liste):\n",
    "    n = len(liste)\n",
    "    for i in range(n):\n",
    "        minpos = i\n",
    "        for j in range(i+1,n):\n",
    "            if liste[j] < liste[minpos]:\n",
    "                minpos = j\n",
    "        liste[i], liste[minpos] = liste[minpos], liste[i]\n",
    "    return liste"
   ]
  },
  {
   "cell_type": "code",
   "execution_count": 5,
   "metadata": {},
   "outputs": [
    {
     "data": {
      "text/plain": [
       "[126, 315, 401, 597, 1000]"
      ]
     },
     "execution_count": 5,
     "metadata": {},
     "output_type": "execute_result"
    }
   ],
   "source": [
    "right_sort([1000,401,315,597,126])"
   ]
  },
  {
   "cell_type": "markdown",
   "metadata": {},
   "source": [
    "- Combien de comparaisons effectue l'algorithme, en termes de la longueur $n$ de la liste en entrée, au pire cas?\n",
    "\n",
    "  *Le nombre de comparaisons dépend uniquement de $n$, et non pas du contenu de la liste. Il est évident qu'à la première itération on fait $n$ comparaisons, ensuite $n-1$, etc., pour un total de $(n^2+1)/2 ∈ O(n^2)$ comparaisons. Avec une petite modification aux bornes de la deuxième boucle, l'algorithme reste correcte et fait $n$ comparaisons en moins, ce qui ne change pas l'asymptotique.*\n",
    "\n",
    "- Combien de comparaisons dans le meilleur cas? *Tout est dans la réponse précédente*\n",
    "\n",
    "- Combien d'écritures dans la variable `liste`, en termes de la longueur $n$? *Deux par itération de la boucle extérieure, donc $2n$ au total*."
   ]
  },
  {
   "cell_type": "markdown",
   "metadata": {},
   "source": [
    "## Exercice 2\n",
    "\n",
    "L'algorithme ci-dessous trouve le minimum dans une liste"
   ]
  },
  {
   "cell_type": "code",
   "execution_count": 6,
   "metadata": {},
   "outputs": [],
   "source": [
    "def minimum(liste):\n",
    "    n = len(liste)\n",
    "    if n <= 1:\n",
    "        return liste[0]\n",
    "    else:\n",
    "        a = minimum(liste[:n//2])\n",
    "        b = minimum(liste[n//2:])\n",
    "        if a < b:\n",
    "            return a\n",
    "        else:\n",
    "            return b"
   ]
  },
  {
   "cell_type": "code",
   "execution_count": 7,
   "metadata": {},
   "outputs": [
    {
     "data": {
      "text/plain": [
       "-200"
      ]
     },
     "execution_count": 7,
     "metadata": {},
     "output_type": "execute_result"
    }
   ],
   "source": [
    "minimum([123, -123, 34, -100, 24, 9, -113, 34, -200, -2, 20])"
   ]
  },
  {
   "cell_type": "markdown",
   "metadata": {},
   "source": [
    "- Quelle est la complexité de l'algorithme, en termes de la longueur $n$ de la liste en entrée?\n",
    "\n",
    "  *Notons $M(n)$ la complexité de l'algorithme, alors $M(n) ≈ 2M(n/2) + c$ pour une constante $c$, et $M(1)=d$ pour une autre constante $d$. En déroulant la récurrence, on obtient $M(n) = c + 2c + 4c + \\cdots + nd$, et on peut borner la somme géométrique par $2^{\\lceil\\log_2 n\\rceil c}$, donc $M(n) ∈ O(n)$.*"
   ]
  },
  {
   "cell_type": "markdown",
   "metadata": {},
   "source": [
    "- Modifier l'algorithme pour qu'il retourne les *deux* plus petits éléments de la liste en entrée. Écrire le code ci-dessous."
   ]
  },
  {
   "cell_type": "code",
   "execution_count": 8,
   "metadata": {},
   "outputs": [],
   "source": [
    "def minimum2(liste):\n",
    "    n = len(liste)\n",
    "    if n == 2:\n",
    "        return sorted(liste)\n",
    "    elif n <= 1:\n",
    "        return liste[0], liste[0]\n",
    "    else:\n",
    "        a1, a2 = minimum2(liste[:n//2])\n",
    "        b1, b2 = minimum2(liste[n//2:])\n",
    "        return sorted((a1,a2,b1,b2))[:2]"
   ]
  },
  {
   "cell_type": "code",
   "execution_count": 9,
   "metadata": {},
   "outputs": [
    {
     "data": {
      "text/plain": [
       "[-927, -914]"
      ]
     },
     "execution_count": 9,
     "metadata": {},
     "output_type": "execute_result"
    }
   ],
   "source": [
    "import random\n",
    "minimum2([random.randint(-1000,1000) for i in range(40)])"
   ]
  },
  {
   "cell_type": "markdown",
   "metadata": {},
   "source": [
    "## Exercice 3\n",
    "\n",
    "On souhaite stocker quelques centaines d'entiers dans l'intervale $[-1000,1000]$ dans une table de hachage.\n",
    "\n",
    "Afin de minimiser les risques de collisions, on crée une table d'hachage d'environ $100^2$ cases, par la classe ci-dessous. Pour la fonction de hachage `H`, on veut utiliser une simple réduction modulo un nombre premier proche de $100^2$, disons $9901$; cependant, la fonction $x \\pmod{9901}$ serait trop simple, car nous avons fait l'hypothèse que $x∈[-1000,1000]$, et du coup `H` ne prendrait des valeurs que dans un petit sous-ensemble de $\\mathbb{Z}/9901\\mathbb{Z}$. Afin de bien \"melanger\" nos entrées, on choisit donc comme fonction de hachage $H(x) = x^{300} + 2\\pmod{9901}$."
   ]
  },
  {
   "cell_type": "code",
   "execution_count": 10,
   "metadata": {},
   "outputs": [],
   "source": [
    "size = 9901\n",
    "\n",
    "# on représente le tableau de hachage par une liste de listes\n",
    "table = [[] for _ in range(size)]\n",
    "\n",
    "# La fonction de hachage\n",
    "def H(x):\n",
    "    return (pow(x, 300, size) + 2) % size\n",
    "    \n",
    "def insert(x):\n",
    "    table[H(x) % size].append(x)\n",
    "\n",
    "def search(x):\n",
    "    return x in table[H(x) % size]\n",
    "\n",
    "# Une fonction pour montrer les cases non-vides de la table\n",
    "def show():\n",
    "    for i in range(size):\n",
    "        if len(table[i]) > 0:\n",
    "            print(i, table[i])"
   ]
  },
  {
   "cell_type": "markdown",
   "metadata": {},
   "source": [
    "Voici le résultat après $100$ insertions, chaque case du tableau de hachage est représentée par une liste, la plus part des listes étant vide: `[]`.\n",
    "\n",
    "- Le nombre moyen de collisions vous parait-il normal ? Comment justifiez-vous ce phenomène ?\n",
    "\n",
    "  *Par le paradoxe des anniversaires, puisque $100≈\\sqrt{9901}$, on s'attend à voir apparaître une collision avec probabilité $1/2$. À vue de nez, il y a beaucoup plus de collisions que ce que la thèorie prévoit.*\n",
    "  \n",
    "  *Il est facile de voir que la fonction $H(x)=x^{300}+2$ ne prend pas toutes les valeurs dans $\\mathbb{Z}/9901\\mathbb{Z}$, en effet $\\gcd(300,9900) = 300$, l'image de $x^{300}$ dans $(\\mathbb{Z}/9901\\mathbb{Z})^\\times$ est donc un sous-groupe d'indice $300$, et $x^{300}+2$ est un coset additif de ce sous-groupe.*\n",
    "  \n",
    "  *Il suffira de changer la fonction $H$ en une autre fonction polynomiale qui melange mieux. Si on remplace $300$ par un exposant premier à $9900$, on obtiendra une permutation de $\\mathbb{Z}/9901\\mathbb{Z}$. C'est ce qui est fait plus bas.* "
   ]
  },
  {
   "cell_type": "code",
   "execution_count": 11,
   "metadata": {},
   "outputs": [
    {
     "name": "stdout",
     "output_type": "stream",
     "text": [
      "3 [648, 876, 343, -485]\n",
      "101 [279, -49, -230]\n",
      "226 [124, -124, -628]\n",
      "673 [689, -539, 732]\n",
      "1791 [-363, 743, 666]\n",
      "2209 [-643, -11, -11]\n",
      "2300 [266]\n",
      "2376 [-865, -83, -83, 830, -357]\n",
      "2400 [-972]\n",
      "2500 [-669, 338, 375]\n",
      "2891 [579]\n",
      "3573 [-262, -374]\n",
      "4698 [-609, 289, 803, 609]\n",
      "5098 [434, -764]\n",
      "5254 [371]\n",
      "5650 [103, -187, 399, -956]\n",
      "6996 [482, -921]\n",
      "7025 [825, 43]\n",
      "7305 [-649, -903, 649, -226]\n",
      "7727 [591, 767, -591, 326, -199, 664, 264]\n",
      "7826 [284, 935, -478, 536, -214]\n",
      "8132 [-385, 385, 608, -608]\n",
      "8785 [-726, 708, -542, -143]\n",
      "8796 [304, -697, -329, -320, -320]\n",
      "9221 [-867, 545, 524]\n",
      "9239 [-852, -588, -514, 583, -642]\n",
      "9460 [917, 812, -792, -87, 721]\n",
      "9680 [91, 975, -438, 50]\n",
      "9681 [518, 19]\n",
      "9682 [479, 213, -479]\n",
      "9803 [598, 750]\n"
     ]
    }
   ],
   "source": [
    "import random\n",
    "for i in range(100):\n",
    "    insert(random.randint(-1000, 1000))\n",
    "show()"
   ]
  },
  {
   "cell_type": "markdown",
   "metadata": {},
   "source": [
    "- Définissez une fonction `max_len` donnant la longueur maximale d'une case de la table;\n",
    "- Définissez une fonction `stats` comptant, pour chaque $n$ entre $0$ et `max_len`, combien de cases contiennent $n$ éléments.\n",
    "- Modifiez la fonction `H` afin d'avoir une meilleur repartition dans la table de hachage"
   ]
  },
  {
   "cell_type": "code",
   "execution_count": 12,
   "metadata": {},
   "outputs": [],
   "source": [
    "def max_len():\n",
    "    return max(len(l) for l in table)"
   ]
  },
  {
   "cell_type": "code",
   "execution_count": 13,
   "metadata": {},
   "outputs": [
    {
     "data": {
      "text/plain": [
       "7"
      ]
     },
     "execution_count": 13,
     "metadata": {},
     "output_type": "execute_result"
    }
   ],
   "source": [
    "max_len()"
   ]
  },
  {
   "cell_type": "code",
   "execution_count": 14,
   "metadata": {},
   "outputs": [],
   "source": [
    "def stats():\n",
    "    bins = {}\n",
    "    for c in table:\n",
    "        l = len(c)\n",
    "        bins[l] = bins.get(l, 0) + 1\n",
    "    return bins"
   ]
  },
  {
   "cell_type": "code",
   "execution_count": 15,
   "metadata": {},
   "outputs": [
    {
     "data": {
      "text/plain": [
       "{0: 9870, 4: 7, 3: 8, 1: 4, 5: 5, 2: 6, 7: 1}"
      ]
     },
     "execution_count": 15,
     "metadata": {},
     "output_type": "execute_result"
    }
   ],
   "source": [
    "stats()"
   ]
  },
  {
   "cell_type": "code",
   "execution_count": 16,
   "metadata": {},
   "outputs": [
    {
     "name": "stdout",
     "output_type": "stream",
     "text": [
      "2 [-432]\n",
      "365 [-124]\n",
      "549 [-791]\n",
      "916 [-24]\n",
      "928 [459]\n",
      "943 [377]\n",
      "1028 [-577]\n",
      "1077 [498]\n",
      "1164 [-599]\n",
      "1431 [-162]\n",
      "1493 [949]\n",
      "1520 [824]\n",
      "1679 [889]\n",
      "1762 [937]\n",
      "1801 [203]\n",
      "1962 [-453]\n",
      "2368 [-930, -930]\n",
      "2379 [12]\n",
      "2426 [199]\n",
      "2501 [394]\n",
      "2717 [846]\n",
      "2943 [-495]\n",
      "2994 [-340]\n",
      "3401 [225]\n",
      "3445 [767]\n",
      "3472 [-188]\n",
      "3476 [538]\n",
      "3594 [475, 475]\n",
      "3669 [603]\n",
      "3693 [-36]\n",
      "3731 [828]\n",
      "4078 [556]\n",
      "4116 [638]\n",
      "4392 [-48]\n",
      "4529 [-568]\n",
      "4572 [-630]\n",
      "4625 [983]\n",
      "4635 [609, 609]\n",
      "4693 [35]\n",
      "4703 [-279]\n",
      "4760 [-752]\n",
      "4761 [117]\n",
      "4772 [435]\n",
      "4907 [-469]\n",
      "5050 [-212]\n",
      "5125 [-890]\n",
      "5320 [699]\n",
      "5397 [-871]\n",
      "5488 [-918]\n",
      "5550 [-316, -316]\n",
      "5576 [-754]\n",
      "5623 [662]\n",
      "5646 [-533]\n",
      "5775 [-74]\n",
      "5846 [83]\n",
      "5926 [-329]\n",
      "5960 [446]\n",
      "6079 [-360]\n",
      "6238 [573]\n",
      "6288 [-245]\n",
      "6346 [876]\n",
      "6361 [-443]\n",
      "6475 [63]\n",
      "6486 [-471]\n",
      "6648 [-762]\n",
      "6726 [-750]\n",
      "6831 [47]\n",
      "6942 [785]\n",
      "7071 [-998, 332]\n",
      "7082 [-93]\n",
      "7173 [809]\n",
      "7339 [-769]\n",
      "7345 [-435]\n",
      "7509 [-287]\n",
      "7523 [-37]\n",
      "7632 [-949]\n",
      "7808 [-796]\n",
      "7821 [398]\n",
      "7914 [-855]\n",
      "7963 [637]\n",
      "7999 [627]\n",
      "8021 [604]\n",
      "8113 [-984]\n",
      "8256 [-760]\n",
      "8287 [-606]\n",
      "8781 [108]\n",
      "8942 [-115]\n",
      "9024 [-319]\n",
      "9164 [798]\n",
      "9541 [51]\n",
      "9625 [-151]\n",
      "9779 [204]\n",
      "9811 [-467]\n",
      "9814 [-756]\n",
      "9823 [-286]\n"
     ]
    }
   ],
   "source": [
    "def H(x):\n",
    "    return (pow(x, 299, size) + x**2 + 2) % size\n",
    "\n",
    "table = [[] for _ in range(size)]\n",
    "for i in range(100):\n",
    "    insert(random.randint(-1000, 1000))\n",
    "show()"
   ]
  },
  {
   "cell_type": "code",
   "execution_count": 17,
   "metadata": {},
   "outputs": [
    {
     "data": {
      "text/plain": [
       "2"
      ]
     },
     "execution_count": 17,
     "metadata": {},
     "output_type": "execute_result"
    }
   ],
   "source": [
    "max_len()"
   ]
  },
  {
   "cell_type": "code",
   "execution_count": 18,
   "metadata": {},
   "outputs": [
    {
     "data": {
      "text/plain": [
       "{0: 9806, 1: 90, 2: 5}"
      ]
     },
     "execution_count": 18,
     "metadata": {},
     "output_type": "execute_result"
    }
   ],
   "source": [
    "stats()"
   ]
  },
  {
   "cell_type": "markdown",
   "metadata": {},
   "source": [
    "## Problème\n",
    "\n",
    "Nous voulons écrire un algorithme pour écrire toutes les expressions algèbriques équivalentes par commutativité à une expression donnée. Par exemple, en ayant comme entrée $$(a + b) · c,$$ nous voulons donner les sorties $$(b + a) · c,$$ $$c · (a + b),$$ $$c · (b + a).$$\n",
    "\n",
    "Pour cela nous allons nous servir de piles at d'arbres. On commence par définir trois classes, représentant les trois types de nœuds d'un arbre."
   ]
  },
  {
   "cell_type": "code",
   "execution_count": 19,
   "metadata": {},
   "outputs": [],
   "source": [
    "class Mul:\n",
    "    def __init__(self, left, right):\n",
    "        self.left = left\n",
    "        self.right = right\n",
    "    \n",
    "    # cette fonction \"magique\" permet de faire un affichage lisible par un humain de la classe\n",
    "    def __repr__(self):\n",
    "        return '(%s * %s)' % (self.left, self.right)\n",
    "\n",
    "class Add:\n",
    "    def __init__(self, left, right):\n",
    "        self.left = left\n",
    "        self.right = right\n",
    "    \n",
    "    def __repr__(self):\n",
    "        return '(%s + %s)' % (self.left, self.right)\n",
    "\n",
    "class Var:\n",
    "    def __init__(self, letter):\n",
    "        self.letter = letter\n",
    "        \n",
    "    def __repr__(self):\n",
    "        return str(self.letter)"
   ]
  },
  {
   "cell_type": "markdown",
   "metadata": {},
   "source": [
    "Avec ces classes, nous pouvos représenter toute expression algébrique, par exemple:"
   ]
  },
  {
   "cell_type": "code",
   "execution_count": 20,
   "metadata": {},
   "outputs": [
    {
     "data": {
      "text/plain": [
       "(3 * ((a + b) * c))"
      ]
     },
     "execution_count": 20,
     "metadata": {},
     "output_type": "execute_result"
    }
   ],
   "source": [
    "Mul(Var(3), Mul(Add(Var('a'), Var('b')), Var('c')))"
   ]
  },
  {
   "cell_type": "markdown",
   "metadata": {},
   "source": [
    "- Utiliser ces classes pour écrire les expressions suivantes: $$(a + b) + c,$$ $$a + (b + c),$$ $$(a + b) · (c + d).$$"
   ]
  },
  {
   "cell_type": "code",
   "execution_count": 21,
   "metadata": {},
   "outputs": [
    {
     "data": {
      "text/plain": [
       "((a + b) + c)"
      ]
     },
     "execution_count": 21,
     "metadata": {},
     "output_type": "execute_result"
    }
   ],
   "source": [
    "Add(Add(Var('a'), Var('b')), Var('c'))"
   ]
  },
  {
   "cell_type": "code",
   "execution_count": 22,
   "metadata": {},
   "outputs": [
    {
     "data": {
      "text/plain": [
       "(a + (b + c))"
      ]
     },
     "execution_count": 22,
     "metadata": {},
     "output_type": "execute_result"
    }
   ],
   "source": [
    "Add(Var('a'), Add(Var('b'), Var('c')))"
   ]
  },
  {
   "cell_type": "code",
   "execution_count": 23,
   "metadata": {},
   "outputs": [
    {
     "data": {
      "text/plain": [
       "((a + b) * (c + d))"
      ]
     },
     "execution_count": 23,
     "metadata": {},
     "output_type": "execute_result"
    }
   ],
   "source": [
    "Mul(Add(Var('a'), Var('b')), Add(Var('c'), Var('d')))"
   ]
  },
  {
   "cell_type": "markdown",
   "metadata": {},
   "source": [
    "### 1. Lecture\n",
    "\n",
    "Compléter la fonction ci-dessous (remplacer tous les `pass` par du code), qui prend en entrée une chaîne de caractères, et qui construit l'arbre correspondant à l'aide des classes `Mul`, `Add`, `Var`. Si la chaîne ne représente pas une expression arithmétique, la fonction doit donner une erreur. Tester la fonction sur les entrées proposées plus bas, ainsi que sur d'autres entrées proposées par vous.\n",
    "\n",
    "**Suggestion :** Vous pouvez utiliser un algorithme à pile similaire à celui vu en TD : à chaque fois qu'une parenthèse fermante est rencontrée, on dépile jusqu'à la parenthèse ouvrante correspondante, on construit le nœud de type `Mul` ou `Add` correspondant, et on remet le résultat dans la pile. Si l'expression est bien parenthésée, à la fin de l'algorithme la pile ne contiendra que l'arbre complet."
   ]
  },
  {
   "cell_type": "code",
   "execution_count": 24,
   "metadata": {},
   "outputs": [],
   "source": [
    "def parse(expr):\n",
    "    stack = []\n",
    "    for c in expr:\n",
    "        if c in '+*':\n",
    "            stack.append(c)\n",
    "        elif c in ' (':\n",
    "            continue\n",
    "        elif c == ')':\n",
    "            r = stack.pop()\n",
    "            op = stack.pop()\n",
    "            l = stack.pop()\n",
    "            if op not in '+*':\n",
    "                raise RuntimeError('Unknown operation %s' % op)\n",
    "            if op == '+':\n",
    "                Noeud = Add\n",
    "            else:\n",
    "                Noeud = Mul\n",
    "            stack.append(Noeud(l, r))\n",
    "        else:\n",
    "            stack.append(Var(c))\n",
    "    assert len(stack) == 1, 'Expression mal formée'\n",
    "    return stack[0]"
   ]
  },
  {
   "cell_type": "code",
   "execution_count": 25,
   "metadata": {},
   "outputs": [
    {
     "data": {
      "text/plain": [
       "(a + b)"
      ]
     },
     "execution_count": 25,
     "metadata": {},
     "output_type": "execute_result"
    }
   ],
   "source": [
    "parse('(a+b)')"
   ]
  },
  {
   "cell_type": "code",
   "execution_count": 26,
   "metadata": {},
   "outputs": [
    {
     "data": {
      "text/plain": [
       "((a + b) * (c + d))"
      ]
     },
     "execution_count": 26,
     "metadata": {},
     "output_type": "execute_result"
    }
   ],
   "source": [
    "parse('((a+b)*(c+d))')"
   ]
  },
  {
   "cell_type": "code",
   "execution_count": 27,
   "metadata": {},
   "outputs": [
    {
     "ename": "AssertionError",
     "evalue": "Expression mal formée",
     "output_type": "error",
     "traceback": [
      "\u001b[0;31m---------------------------------------------------------------------------\u001b[0m",
      "\u001b[0;31mAssertionError\u001b[0m                            Traceback (most recent call last)",
      "\u001b[0;32m<ipython-input-27-0d2737ab220d>\u001b[0m in \u001b[0;36m<module>\u001b[0;34m\u001b[0m\n\u001b[0;32m----> 1\u001b[0;31m \u001b[0mparse\u001b[0m\u001b[0;34m(\u001b[0m\u001b[0;34m'(a+b'\u001b[0m\u001b[0;34m)\u001b[0m\u001b[0;34m\u001b[0m\u001b[0;34m\u001b[0m\u001b[0m\n\u001b[0m",
      "\u001b[0;32m<ipython-input-24-9ccc2d89fc29>\u001b[0m in \u001b[0;36mparse\u001b[0;34m(expr)\u001b[0m\n\u001b[1;32m     19\u001b[0m         \u001b[0;32melse\u001b[0m\u001b[0;34m:\u001b[0m\u001b[0;34m\u001b[0m\u001b[0;34m\u001b[0m\u001b[0m\n\u001b[1;32m     20\u001b[0m             \u001b[0mstack\u001b[0m\u001b[0;34m.\u001b[0m\u001b[0mappend\u001b[0m\u001b[0;34m(\u001b[0m\u001b[0mVar\u001b[0m\u001b[0;34m(\u001b[0m\u001b[0mc\u001b[0m\u001b[0;34m)\u001b[0m\u001b[0;34m)\u001b[0m\u001b[0;34m\u001b[0m\u001b[0;34m\u001b[0m\u001b[0m\n\u001b[0;32m---> 21\u001b[0;31m     \u001b[0;32massert\u001b[0m \u001b[0mlen\u001b[0m\u001b[0;34m(\u001b[0m\u001b[0mstack\u001b[0m\u001b[0;34m)\u001b[0m \u001b[0;34m==\u001b[0m \u001b[0;36m1\u001b[0m\u001b[0;34m,\u001b[0m \u001b[0;34m'Expression mal formée'\u001b[0m\u001b[0;34m\u001b[0m\u001b[0;34m\u001b[0m\u001b[0m\n\u001b[0m\u001b[1;32m     22\u001b[0m     \u001b[0;32mreturn\u001b[0m \u001b[0mstack\u001b[0m\u001b[0;34m[\u001b[0m\u001b[0;36m0\u001b[0m\u001b[0;34m]\u001b[0m\u001b[0;34m\u001b[0m\u001b[0;34m\u001b[0m\u001b[0m\n",
      "\u001b[0;31mAssertionError\u001b[0m: Expression mal formée"
     ]
    }
   ],
   "source": [
    "parse('(a+b')"
   ]
  },
  {
   "cell_type": "markdown",
   "metadata": {},
   "source": [
    "### 2. Permutation\n",
    "\n",
    "- Écrire un programme qui prend en entrée un arbre formé par les classes `Mul`, `Add`, `Var`, et qui renvoie une copie de l'arbre avec tous les `left` échangés avec `right`.\n",
    "\n",
    "**Note:** Vous pouvez tester si un objet appartient à une classe donnée avec la fonction `isinstance`, comme cela:"
   ]
  },
  {
   "cell_type": "code",
   "execution_count": 28,
   "metadata": {},
   "outputs": [
    {
     "data": {
      "text/plain": [
       "True"
      ]
     },
     "execution_count": 28,
     "metadata": {},
     "output_type": "execute_result"
    }
   ],
   "source": [
    "a = Var('a')\n",
    "isinstance(a, Var)"
   ]
  },
  {
   "cell_type": "code",
   "execution_count": 29,
   "metadata": {},
   "outputs": [],
   "source": [
    "def renverse(arbre):\n",
    "    if isinstance(arbre, Var):\n",
    "        return Var(arbre.letter)\n",
    "    else:\n",
    "        return arbre.__class__(renverse(arbre.right), renverse(arbre.left))"
   ]
  },
  {
   "cell_type": "code",
   "execution_count": 30,
   "metadata": {},
   "outputs": [
    {
     "data": {
      "text/plain": [
       "((d + c) * (b + a))"
      ]
     },
     "execution_count": 30,
     "metadata": {},
     "output_type": "execute_result"
    }
   ],
   "source": [
    "renverse(parse('((a+b)*(c+d))'))"
   ]
  },
  {
   "cell_type": "markdown",
   "metadata": {},
   "source": [
    "- Écrire un programme qui prend en entrée un arbre formé par les classes `Mul`, `Add`, `Var`, et qui renvoie **toutes** ses permutations possibles (échanges de `left` et `right`)."
   ]
  },
  {
   "cell_type": "code",
   "execution_count": 31,
   "metadata": {},
   "outputs": [],
   "source": [
    "def permutations(arbre):\n",
    "    if isinstance(arbre, Var):\n",
    "        return [Var(arbre.letter)]\n",
    "    else:\n",
    "        lefts = permutations(arbre.left)\n",
    "        rights = permutations(arbre.right)\n",
    "        return ([arbre.__class__(l, r) for l in lefts for r in rights]\n",
    "                + [arbre.__class__(r, l) for l in lefts for r in rights])"
   ]
  },
  {
   "cell_type": "code",
   "execution_count": 32,
   "metadata": {},
   "outputs": [
    {
     "data": {
      "text/plain": [
       "[((a + b) * (c + d)),\n",
       " ((a + b) * (d + c)),\n",
       " ((b + a) * (c + d)),\n",
       " ((b + a) * (d + c)),\n",
       " ((c + d) * (a + b)),\n",
       " ((d + c) * (a + b)),\n",
       " ((c + d) * (b + a)),\n",
       " ((d + c) * (b + a))]"
      ]
     },
     "execution_count": 32,
     "metadata": {},
     "output_type": "execute_result"
    }
   ],
   "source": [
    "permutations(parse('((a+b)*(c+d))'))"
   ]
  },
  {
   "cell_type": "markdown",
   "metadata": {},
   "source": [
    "### 3. Mettre le tout ensemble\n",
    "\n",
    "- En faisant appel aux fonctions écrites précédemment, écrire un programme qui prend en entrée une expression algébrique et qui en renvoie toutes les expressions équivalentes par commutativité.\n",
    "- Décrire la complexité de la méthode. Est-elle optimale?\n",
    "\n",
    "  *Il est naturel de donner la complexité en termes de la longueur $n$ de l'expression en entrée, cependant une mesure plus précise peut être donnée en termes du nombre $b$ d'opérations binaires dans l'expression, et il est clair que $b∈\\Theta(n)$.*\n",
    "  \n",
    "  *La fonction `parse` ne fait qu'une passe linéaire sur la chaîne de caractères, et pour chaque itération de la boucle elle effectue $O(1)$ opérations, elle a donc complexité $O(n)=O(b)$.*\n",
    "  \n",
    "  *La fonction `permutations` donne en sortie $x$ chaînes de caractères de longueur $n$, sa complexité ne peut donc pas être moindre que $\\Omega(xn)$. Pour déterminer $x$, on remarque qu'à chaque appel récursif la taille de la sortie double, et que le nombre d'appel récursifs est égal au nombre $b$ d'opérations binaires, on a donc une borne inférieure de $\\Omega(2^b n) = \\Omega(2^b b)$.*\n",
    "  \n",
    "  *On vérifie que la complexité est exactement $\\Theta(2^b b)$: notons $P(B)$ le coût de la fonction `permutation` sur un arbre contenant $B$ operations binaires. Si l'arbre est réduit à une feuille de type `Var`, alors $B=0$ et $P(0)=\\Theta(1)$; sinon $P(B) = 2P(B-1) +c(2^{B-1})^2(B-1)$ pour une constante $c$. En déroulant la récurrence on obtient la borne voulue.*"
   ]
  },
  {
   "cell_type": "code",
   "execution_count": 33,
   "metadata": {},
   "outputs": [],
   "source": [
    "def commute(expr):\n",
    "    return permutations(parse(expr))"
   ]
  },
  {
   "cell_type": "code",
   "execution_count": 34,
   "metadata": {},
   "outputs": [
    {
     "data": {
      "text/plain": [
       "[((a + b) * (c + d)),\n",
       " ((a + b) * (d + c)),\n",
       " ((b + a) * (c + d)),\n",
       " ((b + a) * (d + c)),\n",
       " ((c + d) * (a + b)),\n",
       " ((d + c) * (a + b)),\n",
       " ((c + d) * (b + a)),\n",
       " ((d + c) * (b + a))]"
      ]
     },
     "execution_count": 34,
     "metadata": {},
     "output_type": "execute_result"
    }
   ],
   "source": [
    "commute('((a+b)*(c+d))')"
   ]
  }
 ],
 "metadata": {
  "kernelspec": {
   "display_name": "Python 3",
   "language": "python",
   "name": "python3"
  },
  "language_info": {
   "codemirror_mode": {
    "name": "ipython",
    "version": 3
   },
   "file_extension": ".py",
   "mimetype": "text/x-python",
   "name": "python",
   "nbconvert_exporter": "python",
   "pygments_lexer": "ipython3",
   "version": "3.7.1"
  }
 },
 "nbformat": 4,
 "nbformat_minor": 2
}
