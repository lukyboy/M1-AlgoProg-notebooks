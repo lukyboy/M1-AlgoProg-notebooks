{
 "cells": [
  {
   "cell_type": "markdown",
   "metadata": {},
   "source": [
    "## Exercice 2.1"
   ]
  },
  {
   "cell_type": "code",
   "execution_count": 1,
   "metadata": {},
   "outputs": [],
   "source": [
    "class Ville:\n",
    "    def __init__(self, liste):\n",
    "        # \"Explosion\" de listes, équivalent à:\n",
    "        #\n",
    "        #     self.nom = liste[0]\n",
    "        #     self.dept = liste[1]\n",
    "        #     ...\n",
    "        self.nom, self.dept, self.pop, self.sup, self.rang = liste\n",
    "        \n",
    "    def getRang(self):\n",
    "        return int(self.rang)\n",
    "\n",
    "    def getSuperficie(self):\n",
    "        return float(self.sup)\n",
    "\n",
    "    def afficherNom(self):\n",
    "        print(self.nom)\n",
    "\n",
    "    def afficherVille(self):\n",
    "        # \"Interpolation\" de chaînes de caractères par l'opérateur %\n",
    "        print(\"%s (%d), Pop.: %d, Sup.: %fkm²\"\n",
    "              % (self.nom, self.dept, self.pop, self.sup))"
   ]
  },
  {
   "cell_type": "code",
   "execution_count": 2,
   "metadata": {},
   "outputs": [],
   "source": [
    "ville = Ville([\"Maisons-Alfort\", 94, 51091, 5.4, 100])"
   ]
  },
  {
   "cell_type": "code",
   "execution_count": 3,
   "metadata": {},
   "outputs": [
    {
     "data": {
      "text/plain": [
       "100"
      ]
     },
     "execution_count": 3,
     "metadata": {},
     "output_type": "execute_result"
    }
   ],
   "source": [
    "ville.getRang()"
   ]
  },
  {
   "cell_type": "code",
   "execution_count": 4,
   "metadata": {},
   "outputs": [
    {
     "data": {
      "text/plain": [
       "5.4"
      ]
     },
     "execution_count": 4,
     "metadata": {},
     "output_type": "execute_result"
    }
   ],
   "source": [
    "ville.getSuperficie()"
   ]
  },
  {
   "cell_type": "code",
   "execution_count": 5,
   "metadata": {},
   "outputs": [
    {
     "name": "stdout",
     "output_type": "stream",
     "text": [
      "Maisons-Alfort\n"
     ]
    }
   ],
   "source": [
    "ville.afficherNom()"
   ]
  },
  {
   "cell_type": "code",
   "execution_count": 6,
   "metadata": {},
   "outputs": [
    {
     "name": "stdout",
     "output_type": "stream",
     "text": [
      "Maisons-Alfort (94), Pop.: 51091, Sup.: 5.400000km²\n"
     ]
    }
   ],
   "source": [
    "ville.afficherVille()"
   ]
  },
  {
   "cell_type": "markdown",
   "metadata": {},
   "source": [
    "## Exercices 3.1-2"
   ]
  },
  {
   "cell_type": "code",
   "execution_count": 7,
   "metadata": {},
   "outputs": [],
   "source": [
    "class Noeud:\n",
    "    def __init__(self, liste):\n",
    "        self.gauche = None\n",
    "        self.droite = None\n",
    "        self.ville = Ville(liste)\n",
    "\n",
    "    def inserer(self, liste):\n",
    "        tmp = Ville(liste)\n",
    "        if tmp.getRang() < self.ville.getRang():\n",
    "            if self.gauche:\n",
    "                self.gauche.inserer(liste)\n",
    "            else:\n",
    "                self.gauche = Noeud(liste)\n",
    "        elif self.ville.getRang() < tmp.getRang():\n",
    "            if self.droite:\n",
    "                self.droite.inserer(liste)\n",
    "            else:\n",
    "                self.droite = Noeud(liste)\n",
    "    \n",
    "    def afficherArbre(self):\n",
    "        '''\n",
    "        Parcours \"infixe\" = gauche - racine - droite\n",
    "        (donc croissant)\n",
    "        '''\n",
    "        if self.gauche:\n",
    "            self.gauche.afficherArbre()\n",
    "        self.ville.afficherNom()\n",
    "        if self.droite:\n",
    "            self.droite.afficherArbre()"
   ]
  },
  {
   "cell_type": "code",
   "execution_count": 8,
   "metadata": {},
   "outputs": [
    {
     "name": "stdout",
     "output_type": "stream",
     "text": [
      "Paris\n",
      "Marseille\n",
      "Lyon\n",
      "Toulouse\n",
      "Nice\n",
      "Nantes\n",
      "Strasbourg\n",
      "Montpellier\n",
      "Bordeaux\n",
      "Rennes\n",
      "Le-Havre\n",
      "Reims\n",
      "Lille\n",
      "Saint-Étienne\n",
      "Toulon\n",
      "Grenoble\n",
      "Angers\n",
      "Dijon\n",
      "Brest\n",
      "Le-Mans\n",
      "Clermont-Ferrand\n",
      "Amiens\n",
      "Aix-en-Provence\n",
      "Limoges\n",
      "Nîmes\n",
      "Tours\n",
      "Saint-Denis\n",
      "Villeurbanne\n",
      "Metz\n",
      "Besançon\n",
      "Caen\n",
      "Orléans\n",
      "Mulhouse\n",
      "Rouen\n",
      "Boulogne-Billancourt\n",
      "Perpignan\n",
      "Nancy\n",
      "Roubaix\n",
      "Fort-de-France\n",
      "Argenteuil\n",
      "Tourcoing\n",
      "Montreuil\n",
      "Saint-Paul\n",
      "Saint-Denis\n",
      "Avignon\n",
      "Versailles\n",
      "Nanterre\n",
      "Poitiers\n",
      "Créteil\n",
      "Aulnay-sous-Bois\n",
      "Vitry-sur-Seine\n",
      "Pau\n",
      "Calais\n",
      "La-Rochelle\n",
      "Colombes\n",
      "Asnières-sur-Seine\n",
      "Champigny-sur-Marne\n",
      "Rueil-Malmaison\n",
      "Saint-Maur-des-Fossés\n",
      "Antibes\n",
      "Bourges\n",
      "Dunkerque\n",
      "Courbevoie\n",
      "Béziers\n",
      "Saint-Pierre\n",
      "Cannes\n",
      "Saint-Nazaire\n",
      "Colmar\n",
      "Villeneuve-d'Ascq\n",
      "Valence\n",
      "Quimper\n",
      "Aubervilliers\n",
      "Les-Abymes\n",
      "Drancy\n",
      "Mérignac\n",
      "Troyes\n",
      "Le-Tampon\n",
      "La-Seyne-sur-Mer\n",
      "Neuilly-sur-Seine\n",
      "Antony\n",
      "Lorient\n",
      "Saint-Quentin\n",
      "Noisy-le-Grand\n",
      "Sarcelles\n",
      "Niort\n",
      "Pessac\n",
      "Vénissieux\n",
      "Chambéry\n",
      "Charleville-Mézières\n",
      "Beauvais\n",
      "Cergy\n",
      "Levallois-Perret\n",
      "Cholet\n",
      "Ajaccio\n",
      "Issy-les-Moulineaux\n",
      "Montauban\n",
      "Vannes\n",
      "Hyères\n",
      "Évreux\n",
      "Maisons-Alfort\n",
      "Laval\n",
      "Ivry-sur-Seine\n",
      "Fontenay-sous-Bois\n",
      "Saint-Malo\n",
      "Arles\n",
      "Belfort\n",
      "Cayenne\n",
      "Annecy\n",
      "Clichy\n",
      "Sartrouville\n",
      "Chalon-sur-Saône\n",
      "Pantin\n",
      "Châteauroux\n",
      "Évry\n",
      "Meaux\n",
      "La-Roche-sur-Yon\n",
      "Brive-la-Gaillarde\n",
      "Blois\n",
      "Clamart\n",
      "Villejuif\n",
      "Châlons-en-Champagne\n",
      "Sevran\n",
      "Le-Blanc-Mesnil\n",
      "Bondy\n",
      "Fréjus\n",
      "Épinay-sur-Seine\n",
      "Narbonne\n",
      "Tarbes\n",
      "Albi\n",
      "Saint-Brieuc\n",
      "Chelles\n",
      "Boulogne-sur-Mer\n",
      "Bobigny\n",
      "Carcassonne\n",
      "Cagnes-sur-Mer\n",
      "Grasse\n",
      "Saint-Herblain\n",
      "Meudon\n",
      "Mantes-la-Jolie\n",
      "Vincennes\n",
      "Martigues\n",
      "Saint-Louis\n",
      "Castres\n",
      "Saint-André\n",
      "Angoulême\n",
      "Douai\n",
      "Wattrelos\n",
      "Aubagne\n",
      "Gennevilliers\n",
      "Le-Cannet\n",
      "Montluçon\n",
      "Valenciennes\n",
      "Caluire-et-Cuire\n",
      "Compiègne\n",
      "Saint-Priest\n",
      "Nevers\n",
      "Puteaux\n",
      "Thionville\n",
      "Bourg-en-Bresse\n",
      "Arras\n",
      "Chartres\n",
      "Bayonne\n",
      "Garges-lès-Gonesse\n",
      "Saint-Ouen\n",
      "Suresnes\n",
      "Sète\n",
      "Corbeil-Essonnes\n",
      "Alès\n",
      "Vaulx-en-Velin\n",
      "Rosny-sous-Bois\n",
      "Istres\n",
      "Roanne\n",
      "Le-Port\n",
      "Saint-Germain-en-Laye\n",
      "Bastia\n",
      "Auxerre\n",
      "Montrouge\n",
      "Massy\n",
      "Saint-Chamond\n",
      "Bron\n",
      "Noisy-le-Sec\n",
      "Livry-Gargan\n",
      "Talence\n",
      "Bagneux\n",
      "Marcq-en-Baroeul\n",
      "Salon-de-Provence\n",
      "Gagny\n",
      "Vitrolles\n",
      "Joué-lès-Tours\n",
      "Alfortville\n",
      "Gap\n",
      "Savigny-sur-Orge\n",
      "Lens\n",
      "Poissy\n",
      "Épinal\n",
      "Saint-Martin-d'Hères\n",
      "Melun\n",
      "Rezé\n",
      "Le-Lamentin\n",
      "La-Courneuve\n"
     ]
    }
   ],
   "source": [
    "liste = [\"Maisons-Alfort\", 94, 51091, 5.4, 100]\n",
    "noeud = Noeud(liste)\n",
    "with open(\"villes.txt\", \"r\") as fichier:\n",
    "    for ligne in fichier:\n",
    "        liste = ligne.rsplit(\" \")\n",
    "        noeud.inserer(liste)\n",
    "\n",
    "noeud.afficherArbre()"
   ]
  },
  {
   "cell_type": "code",
   "execution_count": null,
   "metadata": {},
   "outputs": [],
   "source": []
  }
 ],
 "metadata": {
  "kernelspec": {
   "display_name": "Python 3",
   "language": "python",
   "name": "python3"
  },
  "language_info": {
   "codemirror_mode": {
    "name": "ipython",
    "version": 3
   },
   "file_extension": ".py",
   "mimetype": "text/x-python",
   "name": "python",
   "nbconvert_exporter": "python",
   "pygments_lexer": "ipython3",
   "version": "3.6.3"
  }
 },
 "nbformat": 4,
 "nbformat_minor": 2
}
