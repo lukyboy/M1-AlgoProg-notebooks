{
 "cells": [
  {
   "cell_type": "markdown",
   "metadata": {},
   "source": [
    "# Analyse d'algorithmes et programmation – Premier contrôle\n",
    "\n",
    "## Exercice 1\n",
    "\n",
    "L'algorithme de tri ci-dessous contient une erreur.\n",
    "\n",
    "1. Trouver une entrée sur laquelle l'algorithme trie mal,\n",
    "2. Corriger l'erreur."
   ]
  },
  {
   "cell_type": "code",
   "execution_count": 7,
   "metadata": {},
   "outputs": [],
   "source": [
    "def almost_right_sort(liste):\n",
    "    n = len(liste)\n",
    "    for i in range(1,n):\n",
    "        minpos = i\n",
    "        for j in range(i,n):\n",
    "            if liste[j] < liste[minpos]:\n",
    "                minpos = j\n",
    "        liste[i], liste[minpos] = liste[minpos], liste[i]\n",
    "    return liste"
   ]
  },
  {
   "cell_type": "code",
   "execution_count": 10,
   "metadata": {},
   "outputs": [
    {
     "data": {
      "text/plain": [
       "[100, 126, 315, 401, 597]"
      ]
     },
     "execution_count": 10,
     "metadata": {},
     "output_type": "execute_result"
    }
   ],
   "source": [
    "almost_right_sort([100,401,315,597,126])"
   ]
  },
  {
   "cell_type": "markdown",
   "metadata": {},
   "source": [
    "- Combien de comparaisons effectue l'algorithme, en termes de la longueur $n$ de la liste en entrée, au pire cas?\n",
    "- Combien de comparaisons dans le meilleur cas?\n",
    "- Combien d'écritures dans la variable `liste`, en termes de la longueur $n$?\n",
    "\n",
    "Répondre ci-dessous."
   ]
  },
  {
   "cell_type": "code",
   "execution_count": null,
   "metadata": {},
   "outputs": [],
   "source": []
  },
  {
   "cell_type": "markdown",
   "metadata": {},
   "source": [
    "## Exercice 2\n",
    "\n",
    "L'algorithme ci-dessous trouve le minimum dans une liste"
   ]
  },
  {
   "cell_type": "code",
   "execution_count": 11,
   "metadata": {},
   "outputs": [],
   "source": [
    "def minimum(liste):\n",
    "    n = len(liste)\n",
    "    if n <= 1:\n",
    "        return liste[0]\n",
    "    else:\n",
    "        a = minimum(liste[:n//2])\n",
    "        b = minimum(liste[n//2:])\n",
    "        if a < b:\n",
    "            return a\n",
    "        else:\n",
    "            return b"
   ]
  },
  {
   "cell_type": "code",
   "execution_count": 12,
   "metadata": {},
   "outputs": [
    {
     "data": {
      "text/plain": [
       "-200"
      ]
     },
     "execution_count": 12,
     "metadata": {},
     "output_type": "execute_result"
    }
   ],
   "source": [
    "minimum([123, -123, 34, -100, 24, 9, -113, 34, -200, -2, 20])"
   ]
  },
  {
   "cell_type": "markdown",
   "metadata": {},
   "source": [
    "- Quelle est la complexité de l'algorithme, en termes de la longueur $n$ de la liste en entrée?"
   ]
  },
  {
   "cell_type": "code",
   "execution_count": null,
   "metadata": {},
   "outputs": [],
   "source": []
  },
  {
   "cell_type": "markdown",
   "metadata": {},
   "source": [
    "- Modifier l'algorithme pour qu'il retourne les *deux* plus petits éléments de la liste en entrée. Écrire le code ci-dessous."
   ]
  },
  {
   "cell_type": "code",
   "execution_count": null,
   "metadata": {},
   "outputs": [],
   "source": []
  },
  {
   "cell_type": "markdown",
   "metadata": {},
   "source": [
    "## Exercice 3\n",
    "\n",
    "On souhaite stocker quelques centaines d'entiers dans l'intervale $[-1000,1000]$ dans une table de hachage.\n",
    "\n",
    "Afin de minimiser les risques de collisions, on crée une table d'hachage d'environ $100^2$ cases, par la classe ci-dessous. Pour la fonction de hachage `H`, on veut utiliser une simple réduction modulo un nombre premier proche de $100^2$, disons $9901$; cependant, la fonction $x \\pmod{9901}$ serait trop simple, car nous avons fait l'hypothèse que $x∈[-1000,1000]$, et du coup `H` ne prendrait des valeurs que dans un petit sous-ensemble de $\\mathbb{Z}/9901\\mathbb{Z}$. Afin de bien \"melanger\" nos entrées, on choisit donc comme fonction de hachage $H(x) = x^{300} + 2\\pmod{9901}$."
   ]
  },
  {
   "cell_type": "code",
   "execution_count": 3,
   "metadata": {},
   "outputs": [],
   "source": [
    "size = 9901\n",
    "\n",
    "# on représente le tableau de hachage par une liste de listes\n",
    "table = [[] for _ in range(size)]\n",
    "\n",
    "# La fonction de hachage\n",
    "def H(x):\n",
    "    return (pow(x, 300, size) + 2) % size\n",
    "    \n",
    "def insert(x):\n",
    "    table[H(x)].append(x)\n",
    "\n",
    "def search(x):\n",
    "    return x in table[H(x)]\n",
    "\n",
    "# Une fonction pour montrer les cases non-vides de la table\n",
    "def show():\n",
    "    for i in range(size):\n",
    "        if len(table[i]) > 0:\n",
    "            print(i, table[i])"
   ]
  },
  {
   "cell_type": "markdown",
   "metadata": {},
   "source": [
    "Voici le résultat après $100$ insertions, chaque case du tableau de hachage est représentée par une liste, la plus part des listes étant vide: `[]`.\n",
    "\n",
    "- Le nombre moyen de collisions vous parait-il normal ? Comment justifiez-vous ce phenomène ?"
   ]
  },
  {
   "cell_type": "code",
   "execution_count": 4,
   "metadata": {},
   "outputs": [
    {
     "name": "stdout",
     "output_type": "stream",
     "text": [
      "3 [-182, -1000]\n",
      "101 [-37, -247, 23, 864]\n",
      "673 [-286, -511, 635, 539, 960, -556]\n",
      "1791 [-811, -811]\n",
      "2209 [684, -265, 989]\n",
      "2300 [585, -704, 704]\n",
      "2376 [357, 718, 650, 830, -795, -718]\n",
      "2400 [-352, 14]\n",
      "2500 [243]\n",
      "2891 [-36, -928]\n",
      "4698 [738, 527]\n",
      "5098 [533, -356]\n",
      "5254 [-165, -617, 146, 282]\n",
      "5650 [341, -341, 103, -543, -341]\n",
      "6996 [-854, 761, -898, -207, 751]\n",
      "7025 [-770, 43]\n",
      "7305 [106, -288, 858, -712]\n",
      "7628 [245, -815, -344, 616, 716, -355]\n",
      "7727 [494, 107, -52, -799]\n",
      "7826 [58, 656, 58]\n",
      "8132 [933, -623, -270, -608]\n",
      "8785 [143]\n",
      "8796 [934, -379, 823, 561]\n",
      "9221 [-753]\n",
      "9239 [467, -583]\n",
      "9456 [982, -34, -314]\n",
      "9460 [-866, -978, -118]\n",
      "9680 [537, -438, 846, 768, 508]\n",
      "9681 [-477, 246, -409, -547, 517, -887]\n",
      "9682 [-147, 69, 954]\n"
     ]
    }
   ],
   "source": [
    "import random\n",
    "for i in range(100):\n",
    "    insert(random.randint(-1000, 1000))\n",
    "show()"
   ]
  },
  {
   "cell_type": "markdown",
   "metadata": {},
   "source": [
    "- Définissez une fonction `max_len` donnant la longueur maximale d'une case de la table;\n",
    "- Définissez une fonction `stats` comptant, pour chaque $n$ entre $0$ et `max_len`, combien de cases contiennent $n$ éléments.\n",
    "- Modifiez la fonction `H` afin d'avoir une meilleur repartition dans la table de hachage"
   ]
  },
  {
   "cell_type": "code",
   "execution_count": null,
   "metadata": {},
   "outputs": [],
   "source": []
  },
  {
   "cell_type": "markdown",
   "metadata": {},
   "source": [
    "## Problème\n",
    "\n",
    "Nous voulons écrire un algorithme pour écrire toutes les expressions algèbriques équivalentes par commutativité à une expression donnée. Par exemple, en ayant comme entrée $$(a + b) · c,$$ nous voulons donner les sorties $$(b + a) · c,$$ $$c · (a + b),$$ $$c · (b + a).$$\n",
    "\n",
    "Pour cela nous allons nous servir de piles at d'arbres. On commence par définir trois classes, représentant les trois types de nœuds d'un arbre."
   ]
  },
  {
   "cell_type": "code",
   "execution_count": 1,
   "metadata": {},
   "outputs": [],
   "source": [
    "class Mul:\n",
    "    def __init__(self, left, right):\n",
    "        self.left = left\n",
    "        self.right = right\n",
    "    \n",
    "    # cette fonction \"magique\" permet de faire un affichage lisible par un humain de la classe\n",
    "    def __repr__(self):\n",
    "        return '(%s * %s)' % (self.left, self.right)\n",
    "\n",
    "class Add:\n",
    "    def __init__(self, left, right):\n",
    "        self.left = left\n",
    "        self.right = right\n",
    "    \n",
    "    def __repr__(self):\n",
    "        return '(%s + %s)' % (self.left, self.right)\n",
    "\n",
    "class Var:\n",
    "    def __init__(self, letter):\n",
    "        self.letter = letter\n",
    "        \n",
    "    def __repr__(self):\n",
    "        return str(self.letter)"
   ]
  },
  {
   "cell_type": "markdown",
   "metadata": {},
   "source": [
    "Avec ces classes, nous pouvos représenter toute expression algébrique, par exemple:"
   ]
  },
  {
   "cell_type": "code",
   "execution_count": 2,
   "metadata": {},
   "outputs": [
    {
     "data": {
      "text/plain": [
       "(3 * ((a + b) * c))"
      ]
     },
     "execution_count": 2,
     "metadata": {},
     "output_type": "execute_result"
    }
   ],
   "source": [
    "Mul(Var(3), Mul(Add(Var('a'), Var('b')), Var('c')))"
   ]
  },
  {
   "cell_type": "markdown",
   "metadata": {},
   "source": [
    "- Utiliser ces classes pour écrire les expressions suivantes: $$(a + b) + c,$$ $$a + (b + c),$$ $$(a + b) · (c + d).$$"
   ]
  },
  {
   "cell_type": "code",
   "execution_count": null,
   "metadata": {},
   "outputs": [],
   "source": []
  },
  {
   "cell_type": "markdown",
   "metadata": {},
   "source": [
    "### 1. Lecture\n",
    "\n",
    "Compléter la fonction ci-dessous (remplacer tous les `pass` par du code), qui prend en entrée une chaîne de caractères, et qui construit l'arbre correspondant à l'aide des classes `Mul`, `Add`, `Var`. Si la chaîne ne représente pas une expression arithmétique, la fonction doit donner une erreur. Tester la fonction sur les entrées proposées plus bas, ainsi que sur d'autres entrées proposées par vous.\n",
    "\n",
    "**Suggestion :** Vous pouvez utiliser un algorithme à pile similaire à celui vu en TD : à chaque fois qu'une parenthèse fermante est rencontrée, on dépile jusqu'à la parenthèse ouvrante correspondante, on construit le nœud de type `Mul` ou `Add` correspondant, et on remet le résultat dans la pile. Si l'expression est bien parenthésée, à la fin de l'algorithme la pile ne contiendra que l'arbre complet."
   ]
  },
  {
   "cell_type": "code",
   "execution_count": 21,
   "metadata": {},
   "outputs": [],
   "source": [
    "def parse(expr):\n",
    "    stack = []\n",
    "    for c in expr:\n",
    "        if c in '+*':\n",
    "            pass\n",
    "        elif c in ' (':\n",
    "            continue\n",
    "        elif c == ')':\n",
    "            pass\n",
    "        else:\n",
    "            pass\n",
    "    assert len(stack) == 1, 'Expression mal formée'\n",
    "    return stack[0]"
   ]
  },
  {
   "cell_type": "code",
   "execution_count": 23,
   "metadata": {},
   "outputs": [
    {
     "data": {
      "text/plain": [
       "(a + b)"
      ]
     },
     "execution_count": 23,
     "metadata": {},
     "output_type": "execute_result"
    }
   ],
   "source": [
    "parse('(a+b)')"
   ]
  },
  {
   "cell_type": "code",
   "execution_count": 24,
   "metadata": {},
   "outputs": [
    {
     "data": {
      "text/plain": [
       "((a + b) * (c + d))"
      ]
     },
     "execution_count": 24,
     "metadata": {},
     "output_type": "execute_result"
    }
   ],
   "source": [
    "parse('((a+b)*(c+d))')"
   ]
  },
  {
   "cell_type": "code",
   "execution_count": 26,
   "metadata": {},
   "outputs": [
    {
     "ename": "AssertionError",
     "evalue": "Expression mal formée",
     "output_type": "error",
     "traceback": [
      "\u001b[0;31m---------------------------------------------------------------------------\u001b[0m",
      "\u001b[0;31mAssertionError\u001b[0m                            Traceback (most recent call last)",
      "\u001b[0;32m<ipython-input-26-0d2737ab220d>\u001b[0m in \u001b[0;36m<module>\u001b[0;34m()\u001b[0m\n\u001b[0;32m----> 1\u001b[0;31m \u001b[0mparse\u001b[0m\u001b[0;34m(\u001b[0m\u001b[0;34m'(a+b'\u001b[0m\u001b[0;34m)\u001b[0m\u001b[0;34m\u001b[0m\u001b[0m\n\u001b[0m",
      "\u001b[0;32m<ipython-input-21-5072fbb8680e>\u001b[0m in \u001b[0;36mparse\u001b[0;34m(expr)\u001b[0m\n\u001b[1;32m     15\u001b[0m         \u001b[0;32melse\u001b[0m\u001b[0;34m:\u001b[0m\u001b[0;34m\u001b[0m\u001b[0m\n\u001b[1;32m     16\u001b[0m             \u001b[0mstack\u001b[0m\u001b[0;34m.\u001b[0m\u001b[0mappend\u001b[0m\u001b[0;34m(\u001b[0m\u001b[0mVar\u001b[0m\u001b[0;34m(\u001b[0m\u001b[0mc\u001b[0m\u001b[0;34m)\u001b[0m\u001b[0;34m)\u001b[0m\u001b[0;34m\u001b[0m\u001b[0m\n\u001b[0;32m---> 17\u001b[0;31m     \u001b[0;32massert\u001b[0m \u001b[0mlen\u001b[0m\u001b[0;34m(\u001b[0m\u001b[0mstack\u001b[0m\u001b[0;34m)\u001b[0m \u001b[0;34m==\u001b[0m \u001b[0;36m1\u001b[0m\u001b[0;34m,\u001b[0m \u001b[0;34m'Expression mal formée'\u001b[0m\u001b[0;34m\u001b[0m\u001b[0m\n\u001b[0m\u001b[1;32m     18\u001b[0m     \u001b[0;32mreturn\u001b[0m \u001b[0mstack\u001b[0m\u001b[0;34m[\u001b[0m\u001b[0;36m0\u001b[0m\u001b[0;34m]\u001b[0m\u001b[0;34m\u001b[0m\u001b[0m\n",
      "\u001b[0;31mAssertionError\u001b[0m: Expression mal formée"
     ]
    }
   ],
   "source": [
    "parse('(a+b')"
   ]
  },
  {
   "cell_type": "markdown",
   "metadata": {},
   "source": [
    "### 2. Permutation\n",
    "\n",
    "- Écrire un programme qui prend en entrée un arbre formé par les classes `Mul`, `Add`, `Var`, et qui renvoie une copie de l'arbre avec tous les `left` échangés avec `right`.\n",
    "\n",
    "**Note:** Vous pouvez tester si un objet appartient à une classe donnée avec la fonction `isinstance`, comme cela:"
   ]
  },
  {
   "cell_type": "code",
   "execution_count": 36,
   "metadata": {},
   "outputs": [
    {
     "data": {
      "text/plain": [
       "True"
      ]
     },
     "execution_count": 36,
     "metadata": {},
     "output_type": "execute_result"
    }
   ],
   "source": [
    "a = Var('a')\n",
    "isinstance(a, Var)"
   ]
  },
  {
   "cell_type": "code",
   "execution_count": 38,
   "metadata": {},
   "outputs": [],
   "source": [
    "def renverse(arbre):\n",
    "    pass"
   ]
  },
  {
   "cell_type": "markdown",
   "metadata": {},
   "source": [
    "- Écrire un programme qui prend en entrée un arbre formé par les classes `Mul`, `Add`, `Var`, et qui renvoie **toutes** ses permutations possibles (échanges de `left` et `right`)."
   ]
  },
  {
   "cell_type": "code",
   "execution_count": 39,
   "metadata": {},
   "outputs": [],
   "source": [
    "def permutations(arbre):\n",
    "    pass"
   ]
  },
  {
   "cell_type": "markdown",
   "metadata": {},
   "source": [
    "### 3. Mettre le tout ensemble\n",
    "\n",
    "- En faisant appel aux fonctions écrites précédemment, écrire un programme qui prend en entrée une expression algébrique et qui en renvoie toutes les expressions équivalentes par commutativité.\n",
    "- Décrire la complexité de la méthode. Est-elle optimale?"
   ]
  },
  {
   "cell_type": "code",
   "execution_count": null,
   "metadata": {},
   "outputs": [],
   "source": []
  },
  {
   "cell_type": "markdown",
   "metadata": {},
   "source": [
    "### 4. Si vous en voulez encore...\n",
    "\n",
    "Écrire maintenant un programme qui renvoie toutes les expressions algébriques équivalentes par commutativité **et associativité**!"
   ]
  },
  {
   "cell_type": "code",
   "execution_count": null,
   "metadata": {},
   "outputs": [],
   "source": []
  }
 ],
 "metadata": {
  "kernelspec": {
   "display_name": "Python 3",
   "language": "python",
   "name": "python3"
  },
  "language_info": {
   "codemirror_mode": {
    "name": "ipython",
    "version": 3
   },
   "file_extension": ".py",
   "mimetype": "text/x-python",
   "name": "python",
   "nbconvert_exporter": "python",
   "pygments_lexer": "ipython3",
   "version": "3.7.1"
  }
 },
 "nbformat": 4,
 "nbformat_minor": 2
}
