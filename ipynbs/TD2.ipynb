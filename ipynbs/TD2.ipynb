{
 "cells": [
  {
   "cell_type": "code",
   "execution_count": 37,
   "metadata": {},
   "outputs": [],
   "source": [
    "import random"
   ]
  },
  {
   "cell_type": "code",
   "execution_count": 51,
   "metadata": {},
   "outputs": [],
   "source": [
    "def tri_bulles(L):\n",
    "    for i in range(len(L)-1,0,-1): #pour i de n-1 à 1 // (pas -1)\n",
    "        print(L, '**')\n",
    "        for j in range(0, i):      #    pour j de 0 à i - 1\n",
    "            if L[j] > L[j+1]:      #        si T[j] > T[j+1]\n",
    "                tmp = L[j]         #           inverser T[j] et T[j+1]\n",
    "                L[j] = L[j+1]\n",
    "                L[j+1] = tmp\n",
    "            print(L[:j+1], L[j+1:])"
   ]
  },
  {
   "cell_type": "code",
   "execution_count": 55,
   "metadata": {},
   "outputs": [],
   "source": [
    "L = random.sample(range(100), 6)"
   ]
  },
  {
   "cell_type": "code",
   "execution_count": 56,
   "metadata": {},
   "outputs": [
    {
     "name": "stdout",
     "output_type": "stream",
     "text": [
      "[31, 12, 2, 97, 51, 29] **\n",
      "[12] [31, 2, 97, 51, 29]\n",
      "[12, 2] [31, 97, 51, 29]\n",
      "[12, 2, 31] [97, 51, 29]\n",
      "[12, 2, 31, 51] [97, 29]\n",
      "[12, 2, 31, 51, 29] [97]\n",
      "[12, 2, 31, 51, 29, 97] **\n",
      "[2] [12, 31, 51, 29, 97]\n",
      "[2, 12] [31, 51, 29, 97]\n",
      "[2, 12, 31] [51, 29, 97]\n",
      "[2, 12, 31, 29] [51, 97]\n",
      "[2, 12, 31, 29, 51, 97] **\n",
      "[2] [12, 31, 29, 51, 97]\n",
      "[2, 12] [31, 29, 51, 97]\n",
      "[2, 12, 29] [31, 51, 97]\n",
      "[2, 12, 29, 31, 51, 97] **\n",
      "[2] [12, 29, 31, 51, 97]\n",
      "[2, 12] [29, 31, 51, 97]\n",
      "[2, 12, 29, 31, 51, 97] **\n",
      "[2] [12, 29, 31, 51, 97]\n"
     ]
    }
   ],
   "source": [
    "tri_bulles(L)"
   ]
  },
  {
   "cell_type": "code",
   "execution_count": 68,
   "metadata": {},
   "outputs": [],
   "source": [
    "def tri_fusion(T):\n",
    "    n = len(T)\n",
    "    if n == 1:\n",
    "        return T\n",
    "    L = T[:n // 2]       # copie de sous-liste gauche\n",
    "    R = T[n // 2:]       # copie de sous-liste droite\n",
    "    L = tri_fusion(L)   # appels **récursifs**\n",
    "    R = tri_fusion(R)\n",
    "    l = r = 0\n",
    "    S = []\n",
    "    while (l < len(L) and r < len(R)):\n",
    "        if L[l] < R[r]:\n",
    "            S.append(L[l])\n",
    "            l += 1\n",
    "        else:\n",
    "            S.append(R[r])\n",
    "            r += 1\n",
    "    while (l < len(L)):\n",
    "        S.append(L[l])\n",
    "        l += 1\n",
    "    while (r < len(R)):\n",
    "        S.append(R[r])\n",
    "        r += 1\n",
    "    print(T, '→', S)\n",
    "    return S"
   ]
  },
  {
   "cell_type": "code",
   "execution_count": 69,
   "metadata": {},
   "outputs": [],
   "source": [
    "L = random.sample(range(100), 6)"
   ]
  },
  {
   "cell_type": "code",
   "execution_count": 70,
   "metadata": {},
   "outputs": [
    {
     "name": "stdout",
     "output_type": "stream",
     "text": [
      "[15, 1] → [1, 15]\n",
      "[70, 15, 1] → [1, 15, 70]\n",
      "[92, 35] → [35, 92]\n",
      "[98, 92, 35] → [35, 92, 98]\n",
      "[70, 15, 1, 98, 92, 35] → [1, 15, 35, 70, 92, 98]\n"
     ]
    },
    {
     "data": {
      "text/plain": [
       "[1, 15, 35, 70, 92, 98]"
      ]
     },
     "execution_count": 70,
     "metadata": {},
     "output_type": "execute_result"
    }
   ],
   "source": [
    "tri_fusion(L)"
   ]
  },
  {
   "cell_type": "code",
   "execution_count": null,
   "metadata": {},
   "outputs": [],
   "source": []
  }
 ],
 "metadata": {
  "kernelspec": {
   "display_name": "Python 3",
   "language": "python",
   "name": "python3"
  },
  "language_info": {
   "codemirror_mode": {
    "name": "ipython",
    "version": 3
   },
   "file_extension": ".py",
   "mimetype": "text/x-python",
   "name": "python",
   "nbconvert_exporter": "python",
   "pygments_lexer": "ipython3",
   "version": "3.7.1"
  }
 },
 "nbformat": 4,
 "nbformat_minor": 2
}
