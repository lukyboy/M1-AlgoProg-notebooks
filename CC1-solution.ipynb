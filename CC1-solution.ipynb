{
 "cells": [
  {
   "cell_type": "markdown",
   "metadata": {},
   "source": [
    "# Analyse d'algorithmes et programmation – Premier contrôle\n",
    "\n",
    "## Exercice 1\n",
    "\n",
    "L'algorithme de tri ci-dessous contient une erreur.\n",
    "\n",
    "1. Trouver une entrée sur laquelle l'algorithme trie mal,\n",
    "2. Corriger l'erreur."
   ]
  },
  {
   "cell_type": "code",
   "execution_count": 1,
   "metadata": {},
   "outputs": [],
   "source": [
    "def almost_right_sort(liste):\n",
    "    n = len(liste)\n",
    "    for i in range(1,n):\n",
    "        minpos = i\n",
    "        for j in range(i,n):\n",
    "            if liste[j] < liste[minpos]:\n",
    "                minpos = j\n",
    "        liste[i], liste[minpos] = liste[minpos], liste[i]\n",
    "    return liste"
   ]
  },
  {
   "cell_type": "code",
   "execution_count": 2,
   "metadata": {},
   "outputs": [
    {
     "data": {
      "text/plain": [
       "[100, 126, 315, 401, 597]"
      ]
     },
     "execution_count": 2,
     "metadata": {},
     "output_type": "execute_result"
    }
   ],
   "source": [
    "almost_right_sort([100,401,315,597,126])"
   ]
  },
  {
   "cell_type": "markdown",
   "metadata": {},
   "source": [
    "L'algorithme ne trie pas correctement le premier élément de la liste. Le fix est simple: modifier les bornes de la première boucle `for`"
   ]
  },
  {
   "cell_type": "code",
   "execution_count": 3,
   "metadata": {},
   "outputs": [
    {
     "data": {
      "text/plain": [
       "[1000, 126, 315, 401, 597]"
      ]
     },
     "execution_count": 3,
     "metadata": {},
     "output_type": "execute_result"
    }
   ],
   "source": [
    "almost_right_sort([1000,401,315,597,126])"
   ]
  },
  {
   "cell_type": "code",
   "execution_count": 4,
   "metadata": {},
   "outputs": [],
   "source": [
    "def right_sort(liste):\n",
    "    n = len(liste)\n",
    "    for i in range(n):\n",
    "        minpos = i\n",
    "        for j in range(i+1,n):\n",
    "            if liste[j] < liste[minpos]:\n",
    "                minpos = j\n",
    "        liste[i], liste[minpos] = liste[minpos], liste[i]\n",
    "    return liste"
   ]
  },
  {
   "cell_type": "code",
   "execution_count": 5,
   "metadata": {},
   "outputs": [
    {
     "data": {
      "text/plain": [
       "[126, 315, 401, 597, 1000]"
      ]
     },
     "execution_count": 5,
     "metadata": {},
     "output_type": "execute_result"
    }
   ],
   "source": [
    "right_sort([1000,401,315,597,126])"
   ]
  },
  {
   "cell_type": "markdown",
   "metadata": {},
   "source": [
    "- Combien de comparaisons effectue l'algorithme, en termes de la longueur $n$ de la liste en entrée, au pire cas?\n",
    "\n",
    "  *Le nombre de comparaisons dépend uniquement de $n$, et non pas du contenu de la liste. Il est évident qu'à la première itération on fait $n$ comparaisons, ensuite $n-1$, etc., pour un total de $n(n+1)/2 ∈ O(n^2)$ comparaisons. Avec une petite modification aux bornes de la deuxième boucle, l'algorithme reste correct et fait $n$ comparaisons en moins, ce qui ne change pas l'asymptotique.*\n",
    "\n",
    "- Combien de comparaisons dans le meilleur cas? *Tout est dans la réponse précédente*\n",
    "\n",
    "- Combien d'écritures dans la variable `liste`, en termes de la longueur $n$? *Deux par itération de la boucle extérieure, donc $2n$ au total*."
   ]
  },
  {
   "cell_type": "markdown",
   "metadata": {},
   "source": [
    "## Exercice 2\n",
    "\n",
    "L'algorithme ci-dessous trouve le minimum dans une liste"
   ]
  },
  {
   "cell_type": "code",
   "execution_count": 6,
   "metadata": {},
   "outputs": [],
   "source": [
    "def minimum(liste):\n",
    "    n = len(liste)\n",
    "    if n <= 1:\n",
    "        return liste[0]\n",
    "    else:\n",
    "        a = minimum(liste[:n//2])\n",
    "        b = minimum(liste[n//2:])\n",
    "        if a < b:\n",
    "            return a\n",
    "        else:\n",
    "            return b"
   ]
  },
  {
   "cell_type": "code",
   "execution_count": 7,
   "metadata": {},
   "outputs": [
    {
     "data": {
      "text/plain": [
       "-200"
      ]
     },
     "execution_count": 7,
     "metadata": {},
     "output_type": "execute_result"
    }
   ],
   "source": [
    "minimum([123, -123, 34, -100, 24, 9, -113, 34, -200, -2, 20])"
   ]
  },
  {
   "cell_type": "markdown",
   "metadata": {},
   "source": [
    "- Quelle est la complexité de l'algorithme, en termes de la longueur $n$ de la liste en entrée?\n",
    "\n",
    "  *Notons $M(n)$ la complexité de l'algorithme, alors $M(n) ≈ 2M(n/2) + c$ pour une constante $c$, et $M(1)=d$ pour une autre constante $d$. En déroulant la récurrence, on obtient $M(n) = c + 2c + 4c + \\cdots + nd$, et on peut borner la somme géométrique par $2^{\\lceil\\log_2 n\\rceil} c$, donc $M(n) ∈ O(n)$.*"
   ]
  },
  {
   "cell_type": "markdown",
   "metadata": {},
   "source": [
    "- Modifier l'algorithme pour qu'il retourne les *deux* plus petits éléments de la liste en entrée. Écrire le code ci-dessous."
   ]
  },
  {
   "cell_type": "code",
   "execution_count": 8,
   "metadata": {},
   "outputs": [],
   "source": [
    "def minimum2(liste):\n",
    "    n = len(liste)\n",
    "    if n == 1:\n",
    "        return liste\n",
    "    elif n == 2:\n",
    "        if liste[0] <= liste[1]:\n",
    "            return liste\n",
    "        else:\n",
    "            return liste[1], liste[0]\n",
    "    else:\n",
    "        a = minimum2(liste[:n//2])  # a peut éventuellement être de longueur 1\n",
    "        b = minimum2(liste[n//2:])  # mais pas b\n",
    "        \n",
    "        # inpsiré par le merge sort\n",
    "        mins = []\n",
    "        ai = bi = 0\n",
    "        while (len(mins) < 2):\n",
    "            if ai < len(a) and a[ai] < b[bi]:\n",
    "                mins.append(a[ai])\n",
    "                ai += 1\n",
    "            else:\n",
    "                mins.append(b[bi])\n",
    "                bi += 1\n",
    "        \n",
    "        return mins"
   ]
  },
  {
   "cell_type": "code",
   "execution_count": 9,
   "metadata": {},
   "outputs": [
    {
     "data": {
      "text/plain": [
       "[-991, -966]"
      ]
     },
     "execution_count": 9,
     "metadata": {},
     "output_type": "execute_result"
    }
   ],
   "source": [
    "import random\n",
    "minimum2([random.randint(-1000,1000) for i in range(40)])"
   ]
  },
  {
   "cell_type": "markdown",
   "metadata": {},
   "source": [
    "## Exercice 3\n",
    "\n",
    "On souhaite stocker quelques centaines d'entiers dans l'intervale $[-1000,1000]$ dans une table de hachage.\n",
    "\n",
    "Afin de minimiser les risques de collisions, on crée une table d'hachage d'environ $100^2$ cases, par la classe ci-dessous. Pour la fonction de hachage `H`, on veut utiliser une simple réduction modulo un nombre premier proche de $100^2$, disons $9901$; cependant, la fonction $x \\pmod{9901}$ serait trop simple, car nous avons fait l'hypothèse que $x∈[-1000,1000]$, et du coup `H` ne prendrait des valeurs que dans un petit sous-ensemble de $\\mathbb{Z}/9901\\mathbb{Z}$. Afin de bien \"melanger\" nos entrées, on choisit donc comme fonction de hachage $H(x) = x^{300} + 2\\pmod{9901}$."
   ]
  },
  {
   "cell_type": "code",
   "execution_count": 10,
   "metadata": {},
   "outputs": [],
   "source": [
    "size = 9901\n",
    "\n",
    "# on représente le tableau de hachage par une liste de listes\n",
    "table = [[] for _ in range(size)]\n",
    "\n",
    "# La fonction de hachage\n",
    "def H(x):\n",
    "    return (pow(x, 300, size) + 2) % size\n",
    "    \n",
    "def insert(x):\n",
    "    table[H(x) % size].append(x)\n",
    "\n",
    "def search(x):\n",
    "    return x in table[H(x) % size]\n",
    "\n",
    "# Une fonction pour montrer les cases non-vides de la table\n",
    "def show():\n",
    "    for i in range(size):\n",
    "        if len(table[i]) > 0:\n",
    "            print(i, table[i])"
   ]
  },
  {
   "cell_type": "markdown",
   "metadata": {},
   "source": [
    "Voici le résultat après $100$ insertions, chaque case du tableau de hachage est représentée par une liste, la plus part des listes étant vide: `[]`.\n",
    "\n",
    "- Le nombre moyen de collisions vous parait-il normal ? Comment justifiez-vous ce phenomène ?\n",
    "\n",
    "  *Par le paradoxe des anniversaires, puisque $100≈\\sqrt{9901}$, on s'attend à voir apparaître une collision avec probabilité $1/2$. À vue de nez, il y a beaucoup plus de collisions que ce que la thèorie prévoit.*\n",
    "  \n",
    "  *Il est facile de voir que la fonction $H(x)=x^{300}+2$ ne prend pas toutes les valeurs dans $\\mathbb{Z}/9901\\mathbb{Z}$, en effet $\\gcd(300,9900) = 300$, l'image de $x^{300}$ dans $(\\mathbb{Z}/9901\\mathbb{Z})^\\times$ est donc un sous-groupe d'indice $300$, et $x^{300}+2$ est un coset additif de ce sous-groupe.*\n",
    "  \n",
    "  *Il suffira de changer la fonction $H$ en une autre fonction polynomiale qui melange mieux. Si on remplace $300$ par un exposant premier à $9900$, on obtiendra une permutation de $\\mathbb{Z}/9901\\mathbb{Z}$. C'est ce qui est fait plus bas.* "
   ]
  },
  {
   "cell_type": "code",
   "execution_count": 11,
   "metadata": {},
   "outputs": [
    {
     "name": "stdout",
     "output_type": "stream",
     "text": [
      "3 [-195, 516, 161, -229, 938, -100]\n",
      "101 [-23]\n",
      "226 [-680]\n",
      "673 [157, 539, 689, -941, 511, 711]\n",
      "1791 [363, 913, -913, -743]\n",
      "2209 [188]\n",
      "2300 [3, -30, 413]\n",
      "2376 [986, 564]\n",
      "2400 [14]\n",
      "2500 [836, 299, -637]\n",
      "2891 [940, 595, 999, -634, -971, -501, 336]\n",
      "3573 [891, 206, -891, 757, -311, -431, 416]\n",
      "4698 [527]\n",
      "5098 [-567]\n",
      "5254 [-108, -325, -953, 617, -256]\n",
      "5650 [131, 543, 45]\n",
      "6996 [761, 167, -333, -112]\n",
      "7025 [-948, 442, -141]\n",
      "7305 [-288, 903, 510, -288]\n",
      "7727 [-767, 142, -692, 326, 494, 328]\n",
      "7826 [-874, 21]\n",
      "8132 [215, -571]\n",
      "8785 [366, 278, 189]\n",
      "8796 [-472, -849, 934]\n",
      "9239 [-236, -642, -588]\n",
      "9456 [466, -645]\n",
      "9460 [717, -722, -294]\n",
      "9680 [-136]\n",
      "9681 [295, 994, -269, 390, -390]\n",
      "9682 [400, 69, 644, -605]\n",
      "9803 [-394, -372, -75]\n"
     ]
    }
   ],
   "source": [
    "import random\n",
    "for i in range(100):\n",
    "    insert(random.randint(-1000, 1000))\n",
    "show()"
   ]
  },
  {
   "cell_type": "markdown",
   "metadata": {},
   "source": [
    "- Définissez une fonction `max_len` donnant la longueur maximale d'une case de la table;\n",
    "- Définissez une fonction `stats` comptant, pour chaque $n$ entre $0$ et `max_len`, combien de cases contiennent $n$ éléments.\n",
    "- Modifiez la fonction `H` afin d'avoir une meilleure repartition dans la table de hachage"
   ]
  },
  {
   "cell_type": "code",
   "execution_count": 12,
   "metadata": {},
   "outputs": [],
   "source": [
    "def max_len():\n",
    "    return max(len(l) for l in table)"
   ]
  },
  {
   "cell_type": "code",
   "execution_count": 13,
   "metadata": {},
   "outputs": [
    {
     "data": {
      "text/plain": [
       "7"
      ]
     },
     "execution_count": 13,
     "metadata": {},
     "output_type": "execute_result"
    }
   ],
   "source": [
    "max_len()"
   ]
  },
  {
   "cell_type": "code",
   "execution_count": 14,
   "metadata": {},
   "outputs": [],
   "source": [
    "def stats():\n",
    "    bins = {}\n",
    "    for c in table:\n",
    "        l = len(c)\n",
    "        bins[l] = bins.get(l, 0) + 1\n",
    "    return bins"
   ]
  },
  {
   "cell_type": "code",
   "execution_count": 15,
   "metadata": {},
   "outputs": [
    {
     "data": {
      "text/plain": [
       "{0: 9870, 6: 3, 1: 7, 4: 4, 3: 9, 2: 4, 7: 2, 5: 2}"
      ]
     },
     "execution_count": 15,
     "metadata": {},
     "output_type": "execute_result"
    }
   ],
   "source": [
    "stats()"
   ]
  },
  {
   "cell_type": "code",
   "execution_count": 16,
   "metadata": {},
   "outputs": [
    {
     "name": "stdout",
     "output_type": "stream",
     "text": [
      "328 [-460]\n",
      "462 [-645]\n",
      "463 [-52]\n",
      "469 [-921]\n",
      "555 [632]\n",
      "628 [467]\n",
      "630 [-753]\n",
      "661 [686]\n",
      "777 [3, -116]\n",
      "820 [856]\n",
      "836 [-186]\n",
      "863 [946]\n",
      "893 [896]\n",
      "1038 [875]\n",
      "1068 [-373]\n",
      "1117 [-273]\n",
      "1260 [-980]\n",
      "1283 [-284]\n",
      "1565 [473]\n",
      "1695 [-455]\n",
      "1772 [268]\n",
      "1851 [821]\n",
      "1971 [765]\n",
      "1995 [-560]\n",
      "2002 [305]\n",
      "2107 [-772]\n",
      "2183 [-962, -962]\n",
      "2303 [-304]\n",
      "2526 [-825]\n",
      "2614 [105]\n",
      "2672 [232]\n",
      "2941 [178]\n",
      "3084 [665]\n",
      "3416 [606]\n",
      "3507 [979]\n",
      "3572 [487]\n",
      "3583 [678]\n",
      "3585 [950]\n",
      "3680 [958]\n",
      "3703 [-496]\n",
      "3715 [-933]\n",
      "3726 [-734]\n",
      "3908 [634]\n",
      "4007 [371]\n",
      "4191 [905]\n",
      "4252 [-337]\n",
      "4380 [660]\n",
      "4426 [428]\n",
      "4529 [-568]\n",
      "4635 [609]\n",
      "4761 [117]\n",
      "4939 [166]\n",
      "5056 [555]\n",
      "5090 [142]\n",
      "5384 [-948]\n",
      "5393 [-76]\n",
      "5397 [-871]\n",
      "5460 [-332]\n",
      "5466 [-775]\n",
      "5926 [-329]\n",
      "5938 [-153]\n",
      "6007 [-293]\n",
      "6079 [-360]\n",
      "6167 [778]\n",
      "6201 [-888]\n",
      "6238 [-277]\n",
      "6275 [758]\n",
      "6295 [-864]\n",
      "6699 [-494]\n",
      "6839 [-716]\n",
      "6872 [241]\n",
      "6884 [-901]\n",
      "6901 [854]\n",
      "6943 [119]\n",
      "7053 [630]\n",
      "7339 [-769]\n",
      "7439 [752]\n",
      "7522 [408]\n",
      "7614 [456]\n",
      "7620 [163, 163]\n",
      "7662 [-35]\n",
      "7786 [-342]\n",
      "7914 [801]\n",
      "8467 [-956]\n",
      "8539 [-708]\n",
      "8742 [143]\n",
      "8801 [802]\n",
      "8804 [578]\n",
      "8892 [-945]\n",
      "8950 [-147]\n",
      "9094 [704]\n",
      "9113 [-717]\n",
      "9539 [-105, -105]\n",
      "9705 [-411, -411]\n",
      "9841 [-686]\n"
     ]
    }
   ],
   "source": [
    "def H(x):\n",
    "    return (pow(x, 299, size) + x**2 + 2) % size\n",
    "\n",
    "table = [[] for _ in range(size)]\n",
    "for i in range(100):\n",
    "    insert(random.randint(-1000, 1000))\n",
    "show()"
   ]
  },
  {
   "cell_type": "code",
   "execution_count": 17,
   "metadata": {},
   "outputs": [
    {
     "data": {
      "text/plain": [
       "2"
      ]
     },
     "execution_count": 17,
     "metadata": {},
     "output_type": "execute_result"
    }
   ],
   "source": [
    "max_len()"
   ]
  },
  {
   "cell_type": "code",
   "execution_count": 18,
   "metadata": {},
   "outputs": [
    {
     "data": {
      "text/plain": [
       "{0: 9806, 1: 90, 2: 5}"
      ]
     },
     "execution_count": 18,
     "metadata": {},
     "output_type": "execute_result"
    }
   ],
   "source": [
    "stats()"
   ]
  },
  {
   "cell_type": "markdown",
   "metadata": {},
   "source": [
    "## Problème\n",
    "\n",
    "Nous voulons écrire un algorithme pour écrire toutes les expressions algèbriques équivalentes par commutativité à une expression donnée. Par exemple, en ayant comme entrée $$(a + b) · c,$$ nous voulons donner les sorties $$(b + a) · c,$$ $$c · (a + b),$$ $$c · (b + a).$$\n",
    "\n",
    "Pour cela nous allons nous servir de piles at d'arbres. On commence par définir trois classes, représentant les trois types de nœuds d'un arbre."
   ]
  },
  {
   "cell_type": "code",
   "execution_count": 19,
   "metadata": {},
   "outputs": [],
   "source": [
    "class Mul:\n",
    "    def __init__(self, left, right):\n",
    "        self.left = left\n",
    "        self.right = right\n",
    "    \n",
    "    # cette fonction \"magique\" permet de faire un affichage lisible par un humain de la classe\n",
    "    def __repr__(self):\n",
    "        return '(%s * %s)' % (self.left, self.right)\n",
    "\n",
    "class Add:\n",
    "    def __init__(self, left, right):\n",
    "        self.left = left\n",
    "        self.right = right\n",
    "    \n",
    "    def __repr__(self):\n",
    "        return '(%s + %s)' % (self.left, self.right)\n",
    "\n",
    "class Var:\n",
    "    def __init__(self, letter):\n",
    "        self.letter = letter\n",
    "        \n",
    "    def __repr__(self):\n",
    "        return str(self.letter)"
   ]
  },
  {
   "cell_type": "markdown",
   "metadata": {},
   "source": [
    "Avec ces classes, nous pouvos représenter toute expression algébrique, par exemple:"
   ]
  },
  {
   "cell_type": "code",
   "execution_count": 20,
   "metadata": {},
   "outputs": [
    {
     "data": {
      "text/plain": [
       "(3 * ((a + b) * c))"
      ]
     },
     "execution_count": 20,
     "metadata": {},
     "output_type": "execute_result"
    }
   ],
   "source": [
    "Mul(Var(3), Mul(Add(Var('a'), Var('b')), Var('c')))"
   ]
  },
  {
   "cell_type": "markdown",
   "metadata": {},
   "source": [
    "- Utiliser ces classes pour écrire les expressions suivantes: $$(a + b) + c,$$ $$a + (b + c),$$ $$(a + b) · (c + d).$$"
   ]
  },
  {
   "cell_type": "code",
   "execution_count": 21,
   "metadata": {},
   "outputs": [
    {
     "data": {
      "text/plain": [
       "((a + b) + c)"
      ]
     },
     "execution_count": 21,
     "metadata": {},
     "output_type": "execute_result"
    }
   ],
   "source": [
    "Add(Add(Var('a'), Var('b')), Var('c'))"
   ]
  },
  {
   "cell_type": "code",
   "execution_count": 22,
   "metadata": {},
   "outputs": [
    {
     "data": {
      "text/plain": [
       "(a + (b + c))"
      ]
     },
     "execution_count": 22,
     "metadata": {},
     "output_type": "execute_result"
    }
   ],
   "source": [
    "Add(Var('a'), Add(Var('b'), Var('c')))"
   ]
  },
  {
   "cell_type": "code",
   "execution_count": 23,
   "metadata": {},
   "outputs": [
    {
     "data": {
      "text/plain": [
       "((a + b) * (c + d))"
      ]
     },
     "execution_count": 23,
     "metadata": {},
     "output_type": "execute_result"
    }
   ],
   "source": [
    "Mul(Add(Var('a'), Var('b')), Add(Var('c'), Var('d')))"
   ]
  },
  {
   "cell_type": "markdown",
   "metadata": {},
   "source": [
    "### 1. Lecture\n",
    "\n",
    "Compléter la fonction ci-dessous (remplacer tous les `pass` par du code), qui prend en entrée une chaîne de caractères, et qui construit l'arbre correspondant à l'aide des classes `Mul`, `Add`, `Var`. Si la chaîne ne représente pas une expression arithmétique, la fonction doit donner une erreur. Tester la fonction sur les entrées proposées plus bas, ainsi que sur d'autres entrées proposées par vous.\n",
    "\n",
    "**Suggestion :** Vous pouvez utiliser un algorithme à pile similaire à celui vu en TD : à chaque fois qu'une parenthèse fermante est rencontrée, on dépile jusqu'à la parenthèse ouvrante correspondante, on construit le nœud de type `Mul` ou `Add` correspondant, et on remet le résultat dans la pile. Si l'expression est bien parenthésée, à la fin de l'algorithme la pile ne contiendra que l'arbre complet."
   ]
  },
  {
   "cell_type": "code",
   "execution_count": 24,
   "metadata": {},
   "outputs": [],
   "source": [
    "def parse(expr):\n",
    "    stack = []\n",
    "    for c in expr:\n",
    "        if c in '+*':\n",
    "            stack.append(c)\n",
    "        elif c in ' (':\n",
    "            continue\n",
    "        elif c == ')':\n",
    "            r = stack.pop()\n",
    "            op = stack.pop()\n",
    "            l = stack.pop()\n",
    "            if op not in '+*':\n",
    "                raise RuntimeError('Unknown operation %s' % op)\n",
    "            if op == '+':\n",
    "                Noeud = Add\n",
    "            else:\n",
    "                Noeud = Mul\n",
    "            stack.append(Noeud(l, r))\n",
    "        else:\n",
    "            stack.append(Var(c))\n",
    "    assert len(stack) == 1, 'Expression mal formée'\n",
    "    return stack[0]"
   ]
  },
  {
   "cell_type": "code",
   "execution_count": 25,
   "metadata": {},
   "outputs": [
    {
     "data": {
      "text/plain": [
       "(a + b)"
      ]
     },
     "execution_count": 25,
     "metadata": {},
     "output_type": "execute_result"
    }
   ],
   "source": [
    "parse('(a+b)')"
   ]
  },
  {
   "cell_type": "code",
   "execution_count": 26,
   "metadata": {},
   "outputs": [
    {
     "data": {
      "text/plain": [
       "((a + b) * (c + d))"
      ]
     },
     "execution_count": 26,
     "metadata": {},
     "output_type": "execute_result"
    }
   ],
   "source": [
    "parse('((a+b)*(c+d))')"
   ]
  },
  {
   "cell_type": "code",
   "execution_count": 27,
   "metadata": {},
   "outputs": [
    {
     "ename": "AssertionError",
     "evalue": "Expression mal formée",
     "output_type": "error",
     "traceback": [
      "\u001b[0;31m---------------------------------------------------------------------------\u001b[0m",
      "\u001b[0;31mAssertionError\u001b[0m                            Traceback (most recent call last)",
      "\u001b[0;32m<ipython-input-27-0d2737ab220d>\u001b[0m in \u001b[0;36m<module>\u001b[0;34m\u001b[0m\n\u001b[0;32m----> 1\u001b[0;31m \u001b[0mparse\u001b[0m\u001b[0;34m(\u001b[0m\u001b[0;34m'(a+b'\u001b[0m\u001b[0;34m)\u001b[0m\u001b[0;34m\u001b[0m\u001b[0;34m\u001b[0m\u001b[0m\n\u001b[0m",
      "\u001b[0;32m<ipython-input-24-9ccc2d89fc29>\u001b[0m in \u001b[0;36mparse\u001b[0;34m(expr)\u001b[0m\n\u001b[1;32m     19\u001b[0m         \u001b[0;32melse\u001b[0m\u001b[0;34m:\u001b[0m\u001b[0;34m\u001b[0m\u001b[0;34m\u001b[0m\u001b[0m\n\u001b[1;32m     20\u001b[0m             \u001b[0mstack\u001b[0m\u001b[0;34m.\u001b[0m\u001b[0mappend\u001b[0m\u001b[0;34m(\u001b[0m\u001b[0mVar\u001b[0m\u001b[0;34m(\u001b[0m\u001b[0mc\u001b[0m\u001b[0;34m)\u001b[0m\u001b[0;34m)\u001b[0m\u001b[0;34m\u001b[0m\u001b[0;34m\u001b[0m\u001b[0m\n\u001b[0;32m---> 21\u001b[0;31m     \u001b[0;32massert\u001b[0m \u001b[0mlen\u001b[0m\u001b[0;34m(\u001b[0m\u001b[0mstack\u001b[0m\u001b[0;34m)\u001b[0m \u001b[0;34m==\u001b[0m \u001b[0;36m1\u001b[0m\u001b[0;34m,\u001b[0m \u001b[0;34m'Expression mal formée'\u001b[0m\u001b[0;34m\u001b[0m\u001b[0;34m\u001b[0m\u001b[0m\n\u001b[0m\u001b[1;32m     22\u001b[0m     \u001b[0;32mreturn\u001b[0m \u001b[0mstack\u001b[0m\u001b[0;34m[\u001b[0m\u001b[0;36m0\u001b[0m\u001b[0;34m]\u001b[0m\u001b[0;34m\u001b[0m\u001b[0;34m\u001b[0m\u001b[0m\n",
      "\u001b[0;31mAssertionError\u001b[0m: Expression mal formée"
     ]
    }
   ],
   "source": [
    "parse('(a+b')"
   ]
  },
  {
   "cell_type": "markdown",
   "metadata": {},
   "source": [
    "### 2. Permutation\n",
    "\n",
    "- Écrire un programme qui prend en entrée un arbre formé par les classes `Mul`, `Add`, `Var`, et qui renvoie une copie de l'arbre avec tous les `left` échangés avec `right`.\n",
    "\n",
    "**Note:** Vous pouvez tester si un objet appartient à une classe donnée avec la fonction `isinstance`, comme cela:"
   ]
  },
  {
   "cell_type": "code",
   "execution_count": 28,
   "metadata": {},
   "outputs": [
    {
     "data": {
      "text/plain": [
       "True"
      ]
     },
     "execution_count": 28,
     "metadata": {},
     "output_type": "execute_result"
    }
   ],
   "source": [
    "a = Var('a')\n",
    "isinstance(a, Var)"
   ]
  },
  {
   "cell_type": "code",
   "execution_count": 29,
   "metadata": {},
   "outputs": [],
   "source": [
    "def renverse(arbre):\n",
    "    if isinstance(arbre, Var):\n",
    "        return Var(arbre.letter)\n",
    "    else:\n",
    "        return arbre.__class__(renverse(arbre.right), renverse(arbre.left))"
   ]
  },
  {
   "cell_type": "code",
   "execution_count": 30,
   "metadata": {},
   "outputs": [
    {
     "data": {
      "text/plain": [
       "((d + c) * (b + a))"
      ]
     },
     "execution_count": 30,
     "metadata": {},
     "output_type": "execute_result"
    }
   ],
   "source": [
    "renverse(parse('((a+b)*(c+d))'))"
   ]
  },
  {
   "cell_type": "markdown",
   "metadata": {},
   "source": [
    "- Écrire un programme qui prend en entrée un arbre formé par les classes `Mul`, `Add`, `Var`, et qui renvoie **toutes** ses permutations possibles (échanges de `left` et `right`)."
   ]
  },
  {
   "cell_type": "code",
   "execution_count": 31,
   "metadata": {},
   "outputs": [],
   "source": [
    "def permutations(arbre):\n",
    "    if isinstance(arbre, Var):\n",
    "        return [Var(arbre.letter)]\n",
    "    else:\n",
    "        lefts = permutations(arbre.left)\n",
    "        rights = permutations(arbre.right)\n",
    "        return ([arbre.__class__(l, r) for l in lefts for r in rights]\n",
    "                + [arbre.__class__(r, l) for l in lefts for r in rights])"
   ]
  },
  {
   "cell_type": "code",
   "execution_count": 32,
   "metadata": {},
   "outputs": [
    {
     "data": {
      "text/plain": [
       "[((a + b) * (c + d)),\n",
       " ((a + b) * (d + c)),\n",
       " ((b + a) * (c + d)),\n",
       " ((b + a) * (d + c)),\n",
       " ((c + d) * (a + b)),\n",
       " ((d + c) * (a + b)),\n",
       " ((c + d) * (b + a)),\n",
       " ((d + c) * (b + a))]"
      ]
     },
     "execution_count": 32,
     "metadata": {},
     "output_type": "execute_result"
    }
   ],
   "source": [
    "permutations(parse('((a+b)*(c+d))'))"
   ]
  },
  {
   "cell_type": "markdown",
   "metadata": {},
   "source": [
    "### 3. Mettre le tout ensemble\n",
    "\n",
    "- En faisant appel aux fonctions écrites précédemment, écrire un programme qui prend en entrée une expression algébrique et qui en renvoie toutes les expressions équivalentes par commutativité.\n",
    "- Décrire la complexité de la méthode. Est-elle optimale?\n",
    "\n",
    "  *Il est naturel de donner la complexité en termes de la longueur $n$ de l'expression en entrée, cependant une mesure plus précise peut être donnée en termes du nombre $b$ d'opérations binaires dans l'expression, et il est clair que $b∈\\Theta(n)$.*\n",
    "  \n",
    "  *La fonction `parse` ne fait qu'une passe linéaire sur la chaîne de caractères, et pour chaque itération de la boucle elle effectue $O(1)$ opérations, elle a donc complexité $O(n)=O(b)$.*\n",
    "  \n",
    "  *La fonction `permutations` donne en sortie $x$ chaînes de caractères de longueur $n$, sa complexité ne peut donc pas être moindre que $\\Omega(xn)$. Pour déterminer $x$, on remarque qu'à chaque appel récursif la taille de la sortie double, et que le nombre d'appels récursifs est égal au nombre $b$ d'opérations binaires, on a donc une borne inférieure de $\\Omega(2^b n) = \\Omega(2^b b)$.*\n",
    "  \n",
    "  *On vérifie que la complexité est exactement $\\Theta(2^b b)$: notons $P(B)$ le coût de la fonction `permutation` sur un arbre contenant $B$ operations binaires. Si l'arbre est réduit à une feuille de type `Var`, alors $B=0$ et $P(0)=\\Theta(1)$; sinon $P(B) = 2P(B-1) +c(2^{B-1})^2(B-1)$ pour une constante $c$. En déroulant la récurrence on obtient la borne voulue.*"
   ]
  },
  {
   "cell_type": "code",
   "execution_count": 33,
   "metadata": {},
   "outputs": [],
   "source": [
    "def commute(expr):\n",
    "    return permutations(parse(expr))"
   ]
  },
  {
   "cell_type": "code",
   "execution_count": 34,
   "metadata": {},
   "outputs": [
    {
     "data": {
      "text/plain": [
       "[((a + b) * (c + d)),\n",
       " ((a + b) * (d + c)),\n",
       " ((b + a) * (c + d)),\n",
       " ((b + a) * (d + c)),\n",
       " ((c + d) * (a + b)),\n",
       " ((d + c) * (a + b)),\n",
       " ((c + d) * (b + a)),\n",
       " ((d + c) * (b + a))]"
      ]
     },
     "execution_count": 34,
     "metadata": {},
     "output_type": "execute_result"
    }
   ],
   "source": [
    "commute('((a+b)*(c+d))')"
   ]
  }
 ],
 "metadata": {
  "kernelspec": {
   "display_name": "Python 3",
   "language": "python",
   "name": "python3"
  },
  "language_info": {
   "codemirror_mode": {
    "name": "ipython",
    "version": 3
   },
   "file_extension": ".py",
   "mimetype": "text/x-python",
   "name": "python",
   "nbconvert_exporter": "python",
   "pygments_lexer": "ipython3",
   "version": "3.7.2"
  }
 },
 "nbformat": 4,
 "nbformat_minor": 2
}
