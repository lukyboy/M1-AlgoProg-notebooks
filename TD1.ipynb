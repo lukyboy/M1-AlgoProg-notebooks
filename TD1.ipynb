{
 "cells": [
  {
   "cell_type": "raw",
   "metadata": {},
   "source": [
    "TriInsertion(liste):\n",
    "    i = 0\n",
    "    tant que i < longueur(liste):\n",
    "        courant = i\n",
    "        j = courant - 1\n",
    "        tant que j ≥ 0:     (*)\n",
    "            si liste[j] > liste[courant]:\n",
    "                temp = liste[j]\n",
    "                liste[j] = liste[courant]\n",
    "                liste[courant] = temp\n",
    "                courant = j\n",
    "            sinon:\n",
    "                sortir de la boucle (*)\n",
    "            j = j - 1\n",
    "        i = i + 1\n",
    "   fin.\n"
   ]
  },
  {
   "cell_type": "code",
   "execution_count": 2,
   "metadata": {},
   "outputs": [],
   "source": [
    "def TriInsertion(liste):\n",
    "    compteur = 0     # ceci compte le nombre de comparaisons\n",
    "    i = 0            # ceci indique la limite de la partie triée\n",
    "    while i < len(liste):\n",
    "        courant = i\n",
    "        j = courant - 1\n",
    "        while j >= 0:\n",
    "            compteur += 1\n",
    "            if liste[j] > liste[courant]:\n",
    "                temp = liste[j]\n",
    "                liste[j] = liste[courant]\n",
    "                liste[courant] = temp\n",
    "                courant = j\n",
    "            #else:\n",
    "            #    break\n",
    "            j = j - 1\n",
    "        i = i + 1\n",
    "    return compteur"
   ]
  },
  {
   "cell_type": "code",
   "execution_count": 3,
   "metadata": {},
   "outputs": [
    {
     "data": {
      "text/plain": [
       "[1, 3, 4, 10, 2]"
      ]
     },
     "execution_count": 3,
     "metadata": {},
     "output_type": "execute_result"
    }
   ],
   "source": [
    "lis = [1, 3, 4, 10, 2]\n",
    "lis"
   ]
  },
  {
   "cell_type": "code",
   "execution_count": 4,
   "metadata": {},
   "outputs": [
    {
     "data": {
      "text/plain": [
       "10"
      ]
     },
     "execution_count": 4,
     "metadata": {},
     "output_type": "execute_result"
    }
   ],
   "source": [
    "TriInsertion(lis)"
   ]
  },
  {
   "cell_type": "code",
   "execution_count": 5,
   "metadata": {},
   "outputs": [
    {
     "data": {
      "text/plain": [
       "[1, 2, 3, 4, 10]"
      ]
     },
     "execution_count": 5,
     "metadata": {},
     "output_type": "execute_result"
    }
   ],
   "source": [
    "lis"
   ]
  },
  {
   "cell_type": "code",
   "execution_count": 6,
   "metadata": {},
   "outputs": [],
   "source": [
    "def TriInsertionSbagliato(liste):\n",
    "    compteur = 0     # ceci compte le nombre de comparaisons\n",
    "    i = 0            # ceci indique la limite de la partie triée\n",
    "    while i < len(liste):\n",
    "        courant = i\n",
    "        j = courant - 1\n",
    "        while j >= 0:\n",
    "            print(i, j, courant, liste[:i], liste[i], liste[i+1:])\n",
    "            compteur += 1\n",
    "            if liste[j] > liste[courant]:\n",
    "                liste[j], liste[courant] = liste[courant], liste[j]\n",
    "                courant = j\n",
    "            else:\n",
    "                break\n",
    "            j = j - 1\n",
    "        i = i + 1\n",
    "    return compteur"
   ]
  },
  {
   "cell_type": "code",
   "execution_count": 7,
   "metadata": {},
   "outputs": [
    {
     "data": {
      "text/plain": [
       "[10, 3, 11, 18, 2, 6, 1]"
      ]
     },
     "execution_count": 7,
     "metadata": {},
     "output_type": "execute_result"
    }
   ],
   "source": [
    "lis = [10, 3, 11, 18, 2, 6, 1]\n",
    "lis"
   ]
  },
  {
   "cell_type": "code",
   "execution_count": 8,
   "metadata": {},
   "outputs": [
    {
     "name": "stdout",
     "output_type": "stream",
     "text": [
      "1 0 1 [10] 3 [11, 18, 2, 6, 1]\n",
      "2 1 2 [3, 10] 11 [18, 2, 6, 1]\n",
      "3 2 3 [3, 10, 11] 18 [2, 6, 1]\n",
      "4 3 4 [3, 10, 11, 18] 2 [6, 1]\n",
      "4 2 3 [3, 10, 11, 2] 18 [6, 1]\n",
      "4 1 2 [3, 10, 2, 11] 18 [6, 1]\n",
      "4 0 1 [3, 2, 10, 11] 18 [6, 1]\n",
      "5 4 5 [2, 3, 10, 11, 18] 6 [1]\n",
      "5 3 4 [2, 3, 10, 11, 6] 18 [1]\n",
      "5 2 3 [2, 3, 10, 6, 11] 18 [1]\n",
      "5 1 2 [2, 3, 6, 10, 11] 18 [1]\n",
      "6 5 6 [2, 3, 6, 10, 11, 18] 1 []\n",
      "6 4 5 [2, 3, 6, 10, 11, 1] 18 []\n",
      "6 3 4 [2, 3, 6, 10, 1, 11] 18 []\n",
      "6 2 3 [2, 3, 6, 1, 10, 11] 18 []\n",
      "6 1 2 [2, 3, 1, 6, 10, 11] 18 []\n",
      "6 0 1 [2, 1, 3, 6, 10, 11] 18 []\n"
     ]
    },
    {
     "data": {
      "text/plain": [
       "17"
      ]
     },
     "execution_count": 8,
     "metadata": {},
     "output_type": "execute_result"
    }
   ],
   "source": [
    "TriInsertionSbagliato(lis)"
   ]
  },
  {
   "cell_type": "code",
   "execution_count": 9,
   "metadata": {},
   "outputs": [
    {
     "data": {
      "text/plain": [
       "[1, 2, 3, 6, 10, 11, 18]"
      ]
     },
     "execution_count": 9,
     "metadata": {},
     "output_type": "execute_result"
    }
   ],
   "source": [
    "lis"
   ]
  },
  {
   "cell_type": "code",
   "execution_count": 10,
   "metadata": {},
   "outputs": [],
   "source": [
    "lis = [1, 3, 4, 10, 2]"
   ]
  },
  {
   "cell_type": "code",
   "execution_count": 11,
   "metadata": {},
   "outputs": [
    {
     "name": "stdout",
     "output_type": "stream",
     "text": [
      "1 0 1 [1] 3 [4, 10, 2]\n",
      "2 1 2 [1, 3] 4 [10, 2]\n",
      "3 2 3 [1, 3, 4] 10 [2]\n",
      "4 3 4 [1, 3, 4, 10] 2 []\n",
      "4 2 3 [1, 3, 4, 2] 10 []\n",
      "4 1 2 [1, 3, 2, 4] 10 []\n",
      "4 0 1 [1, 2, 3, 4] 10 []\n"
     ]
    },
    {
     "data": {
      "text/plain": [
       "7"
      ]
     },
     "execution_count": 11,
     "metadata": {},
     "output_type": "execute_result"
    }
   ],
   "source": [
    "TriInsertionSbagliato(lis)"
   ]
  },
  {
   "cell_type": "code",
   "execution_count": 12,
   "metadata": {},
   "outputs": [
    {
     "data": {
      "text/plain": [
       "[1, 2, 3, 4, 10]"
      ]
     },
     "execution_count": 12,
     "metadata": {},
     "output_type": "execute_result"
    }
   ],
   "source": [
    "lis"
   ]
  },
  {
   "cell_type": "code",
   "execution_count": null,
   "metadata": {},
   "outputs": [],
   "source": []
  }
 ],
 "metadata": {
  "kernelspec": {
   "display_name": "Python 3",
   "language": "python",
   "name": "python3"
  },
  "language_info": {
   "codemirror_mode": {
    "name": "ipython",
    "version": 3
   },
   "file_extension": ".py",
   "mimetype": "text/x-python",
   "name": "python",
   "nbconvert_exporter": "python",
   "pygments_lexer": "ipython3",
   "version": "3.6.3"
  }
 },
 "nbformat": 4,
 "nbformat_minor": 2
}
